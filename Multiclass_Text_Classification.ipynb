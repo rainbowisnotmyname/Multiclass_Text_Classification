{
  "nbformat": 4,
  "nbformat_minor": 0,
  "metadata": {
    "colab": {
      "name": "Multiclass_Text-Classification.ipynb",
      "provenance": [],
      "collapsed_sections": []
    },
    "kernelspec": {
      "display_name": "Python 3",
      "name": "python3"
    },
    "language_info": {
      "name": "python"
    }
  },
  "cells": [
    {
      "cell_type": "markdown",
      "metadata": {
        "id": "vgQ_6phRycL1"
      },
      "source": [
        "# **นาย รุ่ง คนยืน รหัสนักศึกษา 62070267**"
      ]
    },
    {
      "cell_type": "markdown",
      "metadata": {
        "id": "I9aL5hPuyfTH"
      },
      "source": [
        "# **Assignment 2 : Text Scraping & Classification**"
      ]
    },
    {
      "cell_type": "markdown",
      "metadata": {
        "id": "8FWEHO2JkJkE"
      },
      "source": [
        "# Part 1 – Data Collection"
      ]
    },
    {
      "cell_type": "markdown",
      "metadata": {
        "id": "LMe3Dx3-OAc8"
      },
      "source": [
        "## Import เครื่องมือที่ใช้"
      ]
    },
    {
      "cell_type": "code",
      "metadata": {
        "id": "e_MVE2UeNyXo"
      },
      "source": [
        "import pandas as pd\n",
        "import numpy as np\n",
        "from numpy import loadtxt\n",
        "import os\n",
        "import requests\n",
        "import re\n",
        "import csv\n",
        "from bs4 import BeautifulSoup\n",
        "from urllib.request import urlopen\n",
        "from sklearn.linear_model import LogisticRegression\n",
        "import nltk\n",
        "from sklearn import metrics\n",
        "from sklearn.model_selection import train_test_split\n",
        "import matplotlib.pylab as plt\n",
        "from sklearn.metrics import confusion_matrix\n",
        "import seaborn as sns\n",
        "from sklearn.model_selection import RepeatedStratifiedKFold\n",
        "from sklearn.model_selection import RandomizedSearchCV\n",
        "from sklearn.model_selection import GridSearchCV\n",
        "from sklearn.metrics import accuracy_score\n",
        "from sklearn.metrics import classification_report"
      ],
      "execution_count": null,
      "outputs": []
    },
    {
      "cell_type": "markdown",
      "metadata": {
        "id": "wTms3LnOkm5Q"
      },
      "source": [
        "## สร้างฟังก์ชันสำหรับการ Scrap ข้อมูล"
      ]
    },
    {
      "cell_type": "code",
      "metadata": {
        "id": "0C3GiSPVATJT"
      },
      "source": [
        "!mkdir data"
      ],
      "execution_count": null,
      "outputs": []
    },
    {
      "cell_type": "code",
      "metadata": {
        "id": "xSS3cTSparZe"
      },
      "source": [
        "# !mkdir '/data' datastore\n",
        "# /content/data\n",
        "os.mkdir(\"/content/data/datastore\")\n",
        "os.mkdir(\"/content/data/target\")\n",
        "os.mkdir(\"/content/data/datastore/content\")\n",
        "os.mkdir(\"/content/data/datastore/heading\")\n",
        "os.mkdir(\"/content/data/datastore/heading_plus_content\")"
      ],
      "execution_count": null,
      "outputs": []
    },
    {
      "cell_type": "code",
      "metadata": {
        "id": "19RHanNS8_gZ"
      },
      "source": [
        "def get_link_main(): #เอาลิ้งจากหน้าหลักมาเก็บไว้ในลิสต์ เพื่อให้ง่ายต่อการทำ Web Crawling\n",
        "  links = []\n",
        "  link = urlopen(\"http://www.it.kmitl.ac.th/~teerapong/news_archive/index.html\")\n",
        "  soup = BeautifulSoup(link.read())\n",
        "  link_all = soup.find_all('a')\n",
        "  for link in link_all:\n",
        "    archive = 'http://www.it.kmitl.ac.th/~teerapong/news_archive/' + link['href']\n",
        "    links.append(archive)\n",
        "  links = links[0:12]\n",
        "  return links\n",
        "\n",
        "def get_articles(links): \n",
        "  #เปิดลิ้งจากหน้าหลักแล้วเก็บลิ้งข้างในเพื่อเข้าถึงบทความทั้งหมดในแต่ละเดือน\n",
        "  title_list = [] #ลิสต์สำหรับเก็บลิ้งบทความ\n",
        "  for title in links: \n",
        "    link_title = urlopen(title)\n",
        "    soup2 = BeautifulSoup(link_title.read())\n",
        "    link_all2 = soup2.find_all('tbody')\n",
        "    for link in link_all2:\n",
        "      titles = link.find_all('a')\n",
        "      for arti in titles:\n",
        "        title = 'http://www.it.kmitl.ac.th/~teerapong/news_archive/' + arti['href']\n",
        "        title_list.append(title)\n",
        "  return title_list\n",
        "\n",
        "def get_target(links):\n",
        "  #เป็นขั้นตอนการเก็บ target ในที่นี้คือชื่อหมวดหมู่ของบทความแต่ละบทความ\n",
        "  for link in links:\n",
        "    get_data = requests.get(link)\n",
        "    get_data.encoding = 'utf-8'\n",
        "    soup2 = BeautifulSoup(get_data.text, 'html.parser')\n",
        "    link_all2 = soup2.find_all('tbody')\n",
        "    target_file = open('data/target/' + \"category.txt\", \"a\")\n",
        "    for target in link_all2:\n",
        "      cats = target.find_all('td', class_='category')\n",
        "      for targett in cats:\n",
        "        # print(targett)\n",
        "        cat = targett.get_text().strip('\\xa0') #เหตุเกิดจากหลังจากทำ DataFrame เมื่อลอง .values แล้วกลับมี '\\xa0' โผล่มาข้างหน้า target \n",
        "        if \"N/A\" not in cat:\n",
        "          target_file.write(cat)\n",
        "          target_file.write('\\n')"
      ],
      "execution_count": null,
      "outputs": []
    },
    {
      "cell_type": "code",
      "metadata": {
        "id": "NC7AmI_xdcGF"
      },
      "source": [
        "def create_AllArticles_file(url):\n",
        "  #ขั้นตอนการสร้างไฟล์ txt ที่มีข้อมูล Ariticles ที่ต้องการทั้งหมด\n",
        "  for link in url:\n",
        "    get_data = requests.get(link)\n",
        "    get_data.encoding = 'utf-8'\n",
        "    soup = BeautifulSoup(get_data.text, 'html.parser')\n",
        "    find_word = soup.find('div', class_='main')\n",
        "    article = find_word.find_all('p', class_=False)\n",
        "\n",
        "    #สร้างไฟล์โดยกำหนดชื่อ\n",
        "    my_file = open('data/datastore/' + \"AllArticles_OnlyContent.txt\", \"a\")\n",
        "    content = open('data/datastore/content/' + link[50:66] + '.txt', \"wt\")\n",
        "    heading = open('data/datastore/heading/' + link[50:66] + '.txt', \"wt\")\n",
        "\n",
        "    header = find_word.find('h2').text\n",
        "    my_file2 = open('data/datastore/' + \"AllArticles_HeadingPlusContent.txt\", \"a\")\n",
        "    heading_plus = open('data/datastore/heading_plus_content/' + link[50:66] + '.txt', \"wt\")\n",
        "    heading_plus.write(header)\n",
        "    heading.write(header)\n",
        "    my_file2.write(header + ' ') #ให้ + ช่องว่าง เพื่อแบ่งช่วงระหว่างหัวเรื่องกับเนื้อหา\n",
        "    for ar in article:\n",
        "      artt = ar.get_text()\n",
        "      content.write(artt)\n",
        "      my_file.write(artt)\n",
        "      heading_plus.write(artt)\n",
        "      my_file2.write(artt)\n",
        "    my_file.write('\\n')\n",
        "    my_file2.write('\\n')"
      ],
      "execution_count": null,
      "outputs": []
    },
    {
      "cell_type": "markdown",
      "metadata": {
        "id": "y5A9C3sTWdVS"
      },
      "source": [
        "## เรียกใช้งานฟังก์ชัน"
      ]
    },
    {
      "cell_type": "code",
      "metadata": {
        "id": "qu7SSpyghg3S"
      },
      "source": [
        "links = get_link_main() #Link หน้า main"
      ],
      "execution_count": null,
      "outputs": []
    },
    {
      "cell_type": "code",
      "metadata": {
        "id": "f1lxSdlgSgxH"
      },
      "source": [
        "title_list = get_articles(links) #Link หน้ารวมบทความ"
      ],
      "execution_count": null,
      "outputs": []
    },
    {
      "cell_type": "code",
      "metadata": {
        "id": "1y5ifzX6gtUi"
      },
      "source": [
        "get_target(links) #เก็บ Category"
      ],
      "execution_count": null,
      "outputs": []
    },
    {
      "cell_type": "code",
      "metadata": {
        "id": "KvdVVLureDPT"
      },
      "source": [
        "#ฟังก์ชันสร้างไฟล์ที่ใช้เก็บ Articles ไม่ว่าจะเป็น AllArticles_HeadingPlusContent.txt, AllArticles_OnlyContent.txt และไฟล์ย่อยที่อยู่ในส่วน content, heading และ heading_plus_content\n",
        "create_AllArticles_file(title_list)"
      ],
      "execution_count": null,
      "outputs": []
    },
    {
      "cell_type": "code",
      "metadata": {
        "id": "sitC4nIberBK"
      },
      "source": [
        "#                        _oo0oo_\n",
        "#                       o8888888o\n",
        "#                       88\" . \"88\n",
        "#                       (| -_- |)\n",
        "#                       0\\  =  /0\n",
        "#                     ___/`---'\\___\n",
        "#                   .' \\|     |// '.\n",
        "#                  / \\|||  :  |||// \\\n",
        "#                 / _||||| -:- |||||- \\\n",
        "#                |   | \\\\  -  /// |   |\n",
        "#                | \\_|  ''\\---/''  |_/ |\n",
        "#                \\  .-\\__  '-'  ___/-. /\n",
        "#              ___'. .'  /--.--\\  `. .'___\n",
        "#           .\"\" '<  `.___\\_<|>_/___.' >' \"\".\n",
        "#          | | :  `- \\`.;`\\ _ /`;.`/ - ` : | |\n",
        "#          \\  \\ `_.   \\_ __\\ /__ _/   .-` /  /\n",
        "#      =====`-.____`.___ \\_____/___.-`___.-'=====\n",
        "#                        `=---='"
      ],
      "execution_count": null,
      "outputs": []
    },
    {
      "cell_type": "markdown",
      "metadata": {
        "id": "BlkliUIqkPSi"
      },
      "source": [
        "# Part 2 – Text Classification"
      ]
    },
    {
      "cell_type": "markdown",
      "metadata": {
        "id": "7uIppxci6L1v"
      },
      "source": [
        "### Create Contain Text DataFrame "
      ]
    },
    {
      "cell_type": "code",
      "metadata": {
        "id": "4JKpQbZv6XH9"
      },
      "source": [
        "#สร้าง DataFrame ที่ใช้งานหลัก\n",
        "df_text = pd.read_csv('/content/data/datastore/AllArticles_OnlyContent.txt', sep='\\n', header=None) \n",
        "df_text.columns = ['Text_only_content']"
      ],
      "execution_count": null,
      "outputs": []
    },
    {
      "cell_type": "code",
      "metadata": {
        "colab": {
          "base_uri": "https://localhost:8080/",
          "height": 419
        },
        "id": "RrL4QP6e2-eC",
        "outputId": "15d323fb-8619-477b-a1d1-bc1b481143b1"
      },
      "source": [
        "df_text"
      ],
      "execution_count": null,
      "outputs": [
        {
          "output_type": "execute_result",
          "data": {
            "text/html": [
              "<div>\n",
              "<style scoped>\n",
              "    .dataframe tbody tr th:only-of-type {\n",
              "        vertical-align: middle;\n",
              "    }\n",
              "\n",
              "    .dataframe tbody tr th {\n",
              "        vertical-align: top;\n",
              "    }\n",
              "\n",
              "    .dataframe thead th {\n",
              "        text-align: right;\n",
              "    }\n",
              "</style>\n",
              "<table border=\"1\" class=\"dataframe\">\n",
              "  <thead>\n",
              "    <tr style=\"text-align: right;\">\n",
              "      <th></th>\n",
              "      <th>Text_only_content</th>\n",
              "    </tr>\n",
              "  </thead>\n",
              "  <tbody>\n",
              "    <tr>\n",
              "      <th>0</th>\n",
              "      <td>The sporting industry has come a long way sinc...</td>\n",
              "    </tr>\n",
              "    <tr>\n",
              "      <th>1</th>\n",
              "      <td>Asian quake hits European sharesShares in Euro...</td>\n",
              "    </tr>\n",
              "    <tr>\n",
              "      <th>2</th>\n",
              "      <td>BT is offering customers free internet telepho...</td>\n",
              "    </tr>\n",
              "    <tr>\n",
              "      <th>3</th>\n",
              "      <td>Barclays shares up on merger talkShares in UK ...</td>\n",
              "    </tr>\n",
              "    <tr>\n",
              "      <th>4</th>\n",
              "      <td>England centre Olly Barkley has been passed fi...</td>\n",
              "    </tr>\n",
              "    <tr>\n",
              "      <th>...</th>\n",
              "      <td>...</td>\n",
              "    </tr>\n",
              "    <tr>\n",
              "      <th>1403</th>\n",
              "      <td>Woodward eyes Brennan for LionsToulouse's form...</td>\n",
              "    </tr>\n",
              "    <tr>\n",
              "      <th>1404</th>\n",
              "      <td>The trial of Bernie Ebbers, former chief execu...</td>\n",
              "    </tr>\n",
              "    <tr>\n",
              "      <th>1405</th>\n",
              "      <td>Yukos accused of lying to courtRussian oil fir...</td>\n",
              "    </tr>\n",
              "    <tr>\n",
              "      <th>1406</th>\n",
              "      <td>Russian oil company Yukos has dropped the thre...</td>\n",
              "    </tr>\n",
              "    <tr>\n",
              "      <th>1407</th>\n",
              "      <td>Zambia's technical director, Kalusha Bwalya is...</td>\n",
              "    </tr>\n",
              "  </tbody>\n",
              "</table>\n",
              "<p>1408 rows × 1 columns</p>\n",
              "</div>"
            ],
            "text/plain": [
              "                                      Text_only_content\n",
              "0     The sporting industry has come a long way sinc...\n",
              "1     Asian quake hits European sharesShares in Euro...\n",
              "2     BT is offering customers free internet telepho...\n",
              "3     Barclays shares up on merger talkShares in UK ...\n",
              "4     England centre Olly Barkley has been passed fi...\n",
              "...                                                 ...\n",
              "1403  Woodward eyes Brennan for LionsToulouse's form...\n",
              "1404  The trial of Bernie Ebbers, former chief execu...\n",
              "1405  Yukos accused of lying to courtRussian oil fir...\n",
              "1406  Russian oil company Yukos has dropped the thre...\n",
              "1407  Zambia's technical director, Kalusha Bwalya is...\n",
              "\n",
              "[1408 rows x 1 columns]"
            ]
          },
          "metadata": {},
          "execution_count": 12
        }
      ]
    },
    {
      "cell_type": "code",
      "metadata": {
        "id": "FEvxyQc26sZM"
      },
      "source": [
        "fin = open(\"/content/data/datastore/AllArticles_HeadingPlusContent.txt\",\"r\")\n",
        "raw_documents_w_header = fin.readlines()\n",
        "fin.close()"
      ],
      "execution_count": null,
      "outputs": []
    },
    {
      "cell_type": "code",
      "metadata": {
        "id": "4yASHmEl6eQr"
      },
      "source": [
        "df_text['Text_w_header'] = raw_documents_w_header"
      ],
      "execution_count": null,
      "outputs": []
    },
    {
      "cell_type": "code",
      "metadata": {
        "colab": {
          "base_uri": "https://localhost:8080/",
          "height": 419
        },
        "id": "K9Tn_vAv6gnL",
        "outputId": "8b95f12c-1d09-4b59-eab3-f85664eea6b7"
      },
      "source": [
        "df_text #หลังจากนำข้อมูล text ทั้งสองชนิดเข้าไปใน DataFrame"
      ],
      "execution_count": null,
      "outputs": [
        {
          "output_type": "execute_result",
          "data": {
            "text/html": [
              "<div>\n",
              "<style scoped>\n",
              "    .dataframe tbody tr th:only-of-type {\n",
              "        vertical-align: middle;\n",
              "    }\n",
              "\n",
              "    .dataframe tbody tr th {\n",
              "        vertical-align: top;\n",
              "    }\n",
              "\n",
              "    .dataframe thead th {\n",
              "        text-align: right;\n",
              "    }\n",
              "</style>\n",
              "<table border=\"1\" class=\"dataframe\">\n",
              "  <thead>\n",
              "    <tr style=\"text-align: right;\">\n",
              "      <th></th>\n",
              "      <th>Text_only_content</th>\n",
              "      <th>Text_w_header</th>\n",
              "    </tr>\n",
              "  </thead>\n",
              "  <tbody>\n",
              "    <tr>\n",
              "      <th>0</th>\n",
              "      <td>The sporting industry has come a long way sinc...</td>\n",
              "      <td>21st-Century Sports: How Digital Technology Is...</td>\n",
              "    </tr>\n",
              "    <tr>\n",
              "      <th>1</th>\n",
              "      <td>Asian quake hits European sharesShares in Euro...</td>\n",
              "      <td>Asian quake hits European shares Asian quake h...</td>\n",
              "    </tr>\n",
              "    <tr>\n",
              "      <th>2</th>\n",
              "      <td>BT is offering customers free internet telepho...</td>\n",
              "      <td>BT offers free net phone calls BT is offering ...</td>\n",
              "    </tr>\n",
              "    <tr>\n",
              "      <th>3</th>\n",
              "      <td>Barclays shares up on merger talkShares in UK ...</td>\n",
              "      <td>Barclays shares up on merger talk Barclays sha...</td>\n",
              "    </tr>\n",
              "    <tr>\n",
              "      <th>4</th>\n",
              "      <td>England centre Olly Barkley has been passed fi...</td>\n",
              "      <td>Barkley fit for match in Ireland England centr...</td>\n",
              "    </tr>\n",
              "    <tr>\n",
              "      <th>...</th>\n",
              "      <td>...</td>\n",
              "      <td>...</td>\n",
              "    </tr>\n",
              "    <tr>\n",
              "      <th>1403</th>\n",
              "      <td>Woodward eyes Brennan for LionsToulouse's form...</td>\n",
              "      <td>Woodward eyes Brennan for Lions Woodward eyes ...</td>\n",
              "    </tr>\n",
              "    <tr>\n",
              "      <th>1404</th>\n",
              "      <td>The trial of Bernie Ebbers, former chief execu...</td>\n",
              "      <td>WorldCom trial starts in New York The trial of...</td>\n",
              "    </tr>\n",
              "    <tr>\n",
              "      <th>1405</th>\n",
              "      <td>Yukos accused of lying to courtRussian oil fir...</td>\n",
              "      <td>Yukos accused of lying to court Yukos accused ...</td>\n",
              "    </tr>\n",
              "    <tr>\n",
              "      <th>1406</th>\n",
              "      <td>Russian oil company Yukos has dropped the thre...</td>\n",
              "      <td>Yukos drops banks from court bid Russian oil c...</td>\n",
              "    </tr>\n",
              "    <tr>\n",
              "      <th>1407</th>\n",
              "      <td>Zambia's technical director, Kalusha Bwalya is...</td>\n",
              "      <td>Zambia confident and cautious Zambia's technic...</td>\n",
              "    </tr>\n",
              "  </tbody>\n",
              "</table>\n",
              "<p>1408 rows × 2 columns</p>\n",
              "</div>"
            ],
            "text/plain": [
              "                                      Text_only_content                                      Text_w_header\n",
              "0     The sporting industry has come a long way sinc...  21st-Century Sports: How Digital Technology Is...\n",
              "1     Asian quake hits European sharesShares in Euro...  Asian quake hits European shares Asian quake h...\n",
              "2     BT is offering customers free internet telepho...  BT offers free net phone calls BT is offering ...\n",
              "3     Barclays shares up on merger talkShares in UK ...  Barclays shares up on merger talk Barclays sha...\n",
              "4     England centre Olly Barkley has been passed fi...  Barkley fit for match in Ireland England centr...\n",
              "...                                                 ...                                                ...\n",
              "1403  Woodward eyes Brennan for LionsToulouse's form...  Woodward eyes Brennan for Lions Woodward eyes ...\n",
              "1404  The trial of Bernie Ebbers, former chief execu...  WorldCom trial starts in New York The trial of...\n",
              "1405  Yukos accused of lying to courtRussian oil fir...  Yukos accused of lying to court Yukos accused ...\n",
              "1406  Russian oil company Yukos has dropped the thre...  Yukos drops banks from court bid Russian oil c...\n",
              "1407  Zambia's technical director, Kalusha Bwalya is...  Zambia confident and cautious Zambia's technic...\n",
              "\n",
              "[1408 rows x 2 columns]"
            ]
          },
          "metadata": {},
          "execution_count": 15
        }
      ]
    },
    {
      "cell_type": "markdown",
      "metadata": {
        "id": "DgHQsRw-s8PI"
      },
      "source": [
        "### Tokenizing & Normalize Text"
      ]
    },
    {
      "cell_type": "code",
      "metadata": {
        "id": "qgx2BGesXsuL"
      },
      "source": [
        "from sklearn.feature_extraction.text import CountVectorizer \n",
        "tokenize = CountVectorizer().build_tokenizer() #ใช้ CountVectorizer เพื่อสร้าง Tokenizer "
      ],
      "execution_count": null,
      "outputs": []
    },
    {
      "cell_type": "code",
      "metadata": {
        "id": "r0bbsE5PXJXc"
      },
      "source": [
        "from sklearn.feature_extraction import text \n",
        "def token_stop(txt): #ฟังก์ชันสำหรับสร้าง Token และทำ stopwords ไปในตัว\n",
        "    stopwords = text.ENGLISH_STOP_WORDS\n",
        "    tokens = tokenize(txt)\n",
        "    stopp = [word for word in tokens if word not in stopwords]\n",
        "    return stopp"
      ],
      "execution_count": null,
      "outputs": []
    },
    {
      "cell_type": "markdown",
      "metadata": {
        "id": "yJD65ov1MLhX"
      },
      "source": [
        "Apply Function token_stop"
      ]
    },
    {
      "cell_type": "code",
      "metadata": {
        "id": "x9RpDpydYlBK"
      },
      "source": [
        "df_text['Text_only_content_Token_Stop'] = df_text['Text_only_content'].apply(lambda x: token_stop(x.lower()))"
      ],
      "execution_count": null,
      "outputs": []
    },
    {
      "cell_type": "code",
      "metadata": {
        "id": "YzATDnqfCapW"
      },
      "source": [
        "df_text['Text_w_header_Token_Stop'] = df_text['Text_w_header'].apply(lambda x: token_stop(x.lower()))"
      ],
      "execution_count": null,
      "outputs": []
    },
    {
      "cell_type": "code",
      "metadata": {
        "id": "Z5TrGe8DgqL9"
      },
      "source": [
        "category = pd.read_csv('/content/data/target/category.txt', header = None, delimiter='\\n')"
      ],
      "execution_count": null,
      "outputs": []
    },
    {
      "cell_type": "code",
      "metadata": {
        "id": "_1lIdvwShcl9"
      },
      "source": [
        "df_text.insert(0, 'Class_label', category) #insert ตัวแปร Y หรือคอลัมน์ Category"
      ],
      "execution_count": null,
      "outputs": []
    },
    {
      "cell_type": "code",
      "metadata": {
        "colab": {
          "base_uri": "https://localhost:8080/",
          "height": 204
        },
        "id": "TR6gjJfxCMW-",
        "outputId": "7e1cd797-9a0d-43ab-ffbb-a340cc86ce67"
      },
      "source": [
        "df_text.head()"
      ],
      "execution_count": null,
      "outputs": [
        {
          "output_type": "execute_result",
          "data": {
            "text/html": [
              "<div>\n",
              "<style scoped>\n",
              "    .dataframe tbody tr th:only-of-type {\n",
              "        vertical-align: middle;\n",
              "    }\n",
              "\n",
              "    .dataframe tbody tr th {\n",
              "        vertical-align: top;\n",
              "    }\n",
              "\n",
              "    .dataframe thead th {\n",
              "        text-align: right;\n",
              "    }\n",
              "</style>\n",
              "<table border=\"1\" class=\"dataframe\">\n",
              "  <thead>\n",
              "    <tr style=\"text-align: right;\">\n",
              "      <th></th>\n",
              "      <th>Class_label</th>\n",
              "      <th>Text_only_content</th>\n",
              "      <th>Text_w_header</th>\n",
              "      <th>Text_only_content_Token_Stop</th>\n",
              "      <th>Text_w_header_Token_Stop</th>\n",
              "    </tr>\n",
              "  </thead>\n",
              "  <tbody>\n",
              "    <tr>\n",
              "      <th>0</th>\n",
              "      <td>technology</td>\n",
              "      <td>The sporting industry has come a long way sinc...</td>\n",
              "      <td>21st-Century Sports: How Digital Technology Is...</td>\n",
              "      <td>[sporting, industry, come, long, way, 60s, car...</td>\n",
              "      <td>[21st, century, sports, digital, technology, c...</td>\n",
              "    </tr>\n",
              "    <tr>\n",
              "      <th>1</th>\n",
              "      <td>business</td>\n",
              "      <td>Asian quake hits European sharesShares in Euro...</td>\n",
              "      <td>Asian quake hits European shares Asian quake h...</td>\n",
              "      <td>[asian, quake, hits, european, sharesshares, e...</td>\n",
              "      <td>[asian, quake, hits, european, shares, asian, ...</td>\n",
              "    </tr>\n",
              "    <tr>\n",
              "      <th>2</th>\n",
              "      <td>technology</td>\n",
              "      <td>BT is offering customers free internet telepho...</td>\n",
              "      <td>BT offers free net phone calls BT is offering ...</td>\n",
              "      <td>[bt, offering, customers, free, internet, tele...</td>\n",
              "      <td>[bt, offers, free, net, phone, calls, bt, offe...</td>\n",
              "    </tr>\n",
              "    <tr>\n",
              "      <th>3</th>\n",
              "      <td>business</td>\n",
              "      <td>Barclays shares up on merger talkShares in UK ...</td>\n",
              "      <td>Barclays shares up on merger talk Barclays sha...</td>\n",
              "      <td>[barclays, shares, merger, talkshares, uk, ban...</td>\n",
              "      <td>[barclays, shares, merger, talk, barclays, sha...</td>\n",
              "    </tr>\n",
              "    <tr>\n",
              "      <th>4</th>\n",
              "      <td>sport</td>\n",
              "      <td>England centre Olly Barkley has been passed fi...</td>\n",
              "      <td>Barkley fit for match in Ireland England centr...</td>\n",
              "      <td>[england, centre, olly, barkley, passed, fit, ...</td>\n",
              "      <td>[barkley, fit, match, ireland, england, centre...</td>\n",
              "    </tr>\n",
              "  </tbody>\n",
              "</table>\n",
              "</div>"
            ],
            "text/plain": [
              "  Class_label  ...                           Text_w_header_Token_Stop\n",
              "0  technology  ...  [21st, century, sports, digital, technology, c...\n",
              "1    business  ...  [asian, quake, hits, european, shares, asian, ...\n",
              "2  technology  ...  [bt, offers, free, net, phone, calls, bt, offe...\n",
              "3    business  ...  [barclays, shares, merger, talk, barclays, sha...\n",
              "4       sport  ...  [barkley, fit, match, ireland, england, centre...\n",
              "\n",
              "[5 rows x 5 columns]"
            ]
          },
          "metadata": {},
          "execution_count": 22
        }
      ]
    },
    {
      "cell_type": "markdown",
      "metadata": {
        "id": "4gqGOzhMlZf0"
      },
      "source": [
        "## Stemming"
      ]
    },
    {
      "cell_type": "code",
      "metadata": {
        "id": "ok4j-i-b-kbN"
      },
      "source": [
        "from nltk.stem.porter import PorterStemmer #stemming โดยใช้วิธี PorterStemmer\n",
        "def stemmer(doc): #ฟังก์ชันสำหรับการ stemming \n",
        "    stemmer = PorterStemmer()\n",
        "    stemm = [stemmer.stem(word) for word in doc]\n",
        "    return stemm"
      ],
      "execution_count": null,
      "outputs": []
    },
    {
      "cell_type": "code",
      "metadata": {
        "id": "i4F5o-IQbvW7"
      },
      "source": [
        "df_text['Text_only_content_Stemming'] = df_text['Text_only_content_Token_Stop'].apply(lambda x: stemmer(x))\n",
        "df_text['Text_w_header_Stemming'] = df_text['Text_w_header_Token_Stop'].apply(lambda x: stemmer(x))"
      ],
      "execution_count": null,
      "outputs": []
    },
    {
      "cell_type": "code",
      "metadata": {
        "colab": {
          "base_uri": "https://localhost:8080/",
          "height": 289
        },
        "id": "6tLbfsrVc5Ka",
        "outputId": "88dd23b7-4fd0-4914-88ec-14e495da1163"
      },
      "source": [
        "df_text.head()"
      ],
      "execution_count": null,
      "outputs": [
        {
          "output_type": "execute_result",
          "data": {
            "text/html": [
              "<div>\n",
              "<style scoped>\n",
              "    .dataframe tbody tr th:only-of-type {\n",
              "        vertical-align: middle;\n",
              "    }\n",
              "\n",
              "    .dataframe tbody tr th {\n",
              "        vertical-align: top;\n",
              "    }\n",
              "\n",
              "    .dataframe thead th {\n",
              "        text-align: right;\n",
              "    }\n",
              "</style>\n",
              "<table border=\"1\" class=\"dataframe\">\n",
              "  <thead>\n",
              "    <tr style=\"text-align: right;\">\n",
              "      <th></th>\n",
              "      <th>Class_label</th>\n",
              "      <th>Text_only_content</th>\n",
              "      <th>Text_w_header</th>\n",
              "      <th>Text_only_content_Token_Stop</th>\n",
              "      <th>Text_w_header_Token_Stop</th>\n",
              "      <th>Text_only_content_Stemming</th>\n",
              "      <th>Text_w_header_Stemming</th>\n",
              "    </tr>\n",
              "  </thead>\n",
              "  <tbody>\n",
              "    <tr>\n",
              "      <th>0</th>\n",
              "      <td>technology</td>\n",
              "      <td>The sporting industry has come a long way sinc...</td>\n",
              "      <td>21st-Century Sports: How Digital Technology Is...</td>\n",
              "      <td>[sporting, industry, come, long, way, 60s, car...</td>\n",
              "      <td>[21st, century, sports, digital, technology, c...</td>\n",
              "      <td>[sport, industri, come, long, way, 60, carv, n...</td>\n",
              "      <td>[21st, centuri, sport, digit, technolog, chang...</td>\n",
              "    </tr>\n",
              "    <tr>\n",
              "      <th>1</th>\n",
              "      <td>business</td>\n",
              "      <td>Asian quake hits European sharesShares in Euro...</td>\n",
              "      <td>Asian quake hits European shares Asian quake h...</td>\n",
              "      <td>[asian, quake, hits, european, sharesshares, e...</td>\n",
              "      <td>[asian, quake, hits, european, shares, asian, ...</td>\n",
              "      <td>[asian, quak, hit, european, sharesshar, europ...</td>\n",
              "      <td>[asian, quak, hit, european, share, asian, qua...</td>\n",
              "    </tr>\n",
              "    <tr>\n",
              "      <th>2</th>\n",
              "      <td>technology</td>\n",
              "      <td>BT is offering customers free internet telepho...</td>\n",
              "      <td>BT offers free net phone calls BT is offering ...</td>\n",
              "      <td>[bt, offering, customers, free, internet, tele...</td>\n",
              "      <td>[bt, offers, free, net, phone, calls, bt, offe...</td>\n",
              "      <td>[bt, offer, custom, free, internet, telephon, ...</td>\n",
              "      <td>[bt, offer, free, net, phone, call, bt, offer,...</td>\n",
              "    </tr>\n",
              "    <tr>\n",
              "      <th>3</th>\n",
              "      <td>business</td>\n",
              "      <td>Barclays shares up on merger talkShares in UK ...</td>\n",
              "      <td>Barclays shares up on merger talk Barclays sha...</td>\n",
              "      <td>[barclays, shares, merger, talkshares, uk, ban...</td>\n",
              "      <td>[barclays, shares, merger, talk, barclays, sha...</td>\n",
              "      <td>[barclay, share, merger, talkshar, uk, bank, g...</td>\n",
              "      <td>[barclay, share, merger, talk, barclay, share,...</td>\n",
              "    </tr>\n",
              "    <tr>\n",
              "      <th>4</th>\n",
              "      <td>sport</td>\n",
              "      <td>England centre Olly Barkley has been passed fi...</td>\n",
              "      <td>Barkley fit for match in Ireland England centr...</td>\n",
              "      <td>[england, centre, olly, barkley, passed, fit, ...</td>\n",
              "      <td>[barkley, fit, match, ireland, england, centre...</td>\n",
              "      <td>[england, centr, olli, barkley, pass, fit, sun...</td>\n",
              "      <td>[barkley, fit, match, ireland, england, centr,...</td>\n",
              "    </tr>\n",
              "  </tbody>\n",
              "</table>\n",
              "</div>"
            ],
            "text/plain": [
              "  Class_label  ...                             Text_w_header_Stemming\n",
              "0  technology  ...  [21st, centuri, sport, digit, technolog, chang...\n",
              "1    business  ...  [asian, quak, hit, european, share, asian, qua...\n",
              "2  technology  ...  [bt, offer, free, net, phone, call, bt, offer,...\n",
              "3    business  ...  [barclay, share, merger, talk, barclay, share,...\n",
              "4       sport  ...  [barkley, fit, match, ireland, england, centr,...\n",
              "\n",
              "[5 rows x 7 columns]"
            ]
          },
          "metadata": {},
          "execution_count": 25
        }
      ]
    },
    {
      "cell_type": "markdown",
      "metadata": {
        "id": "HnqQnagpHURL"
      },
      "source": [
        "## Lemmatization"
      ]
    },
    {
      "cell_type": "code",
      "metadata": {
        "colab": {
          "base_uri": "https://localhost:8080/"
        },
        "id": "Er1T_wG7HkkF",
        "outputId": "24a6688a-3c70-45cb-ffb8-6c5cadd18fb3"
      },
      "source": [
        "import nltk\n",
        "nltk.download('wordnet')\n",
        "nltk.download('averaged_perceptron_tagger')\n",
        "from nltk.stem import WordNetLemmatizer as wn\n",
        "wn = nltk.stem.WordNetLemmatizer()"
      ],
      "execution_count": null,
      "outputs": [
        {
          "output_type": "stream",
          "name": "stdout",
          "text": [
            "[nltk_data] Downloading package wordnet to /root/nltk_data...\n",
            "[nltk_data]   Unzipping corpora/wordnet.zip.\n",
            "[nltk_data] Downloading package averaged_perceptron_tagger to\n",
            "[nltk_data]     /root/nltk_data...\n",
            "[nltk_data]   Unzipping taggers/averaged_perceptron_tagger.zip.\n"
          ]
        }
      ]
    },
    {
      "cell_type": "markdown",
      "metadata": {
        "id": "7pLy2cBGU6LO"
      },
      "source": [
        "### Lemmatizer without POS tagging"
      ]
    },
    {
      "cell_type": "code",
      "metadata": {
        "id": "WiFZ_Ilkw7Gl"
      },
      "source": [
        "#สร้างฟังก์ชันสำหรับการทำ Lemmatize\n",
        "def lemmatizer(tokens): \n",
        "    lemma_text = [wn.lemmatize(word) for word in tokens]\n",
        "    return lemma_text"
      ],
      "execution_count": null,
      "outputs": []
    },
    {
      "cell_type": "code",
      "metadata": {
        "id": "3ox1PadjAFSW"
      },
      "source": [
        "df_text['Text_only_content_lemmatize'] = df_text['Text_only_content_Token_Stop'].apply(lambda x : lemmatizer(x))\n",
        "df_text['Text_w_header_lemmatize'] = df_text['Text_w_header_Token_Stop'].apply(lambda x : lemmatizer(x))"
      ],
      "execution_count": null,
      "outputs": []
    },
    {
      "cell_type": "code",
      "metadata": {
        "colab": {
          "base_uri": "https://localhost:8080/",
          "height": 445
        },
        "id": "hTzM4jawBNEU",
        "outputId": "177bfc92-8278-4c95-e650-7741156ea24f"
      },
      "source": [
        "df_text.head()"
      ],
      "execution_count": null,
      "outputs": [
        {
          "output_type": "execute_result",
          "data": {
            "text/html": [
              "<div>\n",
              "<style scoped>\n",
              "    .dataframe tbody tr th:only-of-type {\n",
              "        vertical-align: middle;\n",
              "    }\n",
              "\n",
              "    .dataframe tbody tr th {\n",
              "        vertical-align: top;\n",
              "    }\n",
              "\n",
              "    .dataframe thead th {\n",
              "        text-align: right;\n",
              "    }\n",
              "</style>\n",
              "<table border=\"1\" class=\"dataframe\">\n",
              "  <thead>\n",
              "    <tr style=\"text-align: right;\">\n",
              "      <th></th>\n",
              "      <th>Class_label</th>\n",
              "      <th>Text_only_content</th>\n",
              "      <th>Text_w_header</th>\n",
              "      <th>Text_only_content_Token_Stop</th>\n",
              "      <th>Text_w_header_Token_Stop</th>\n",
              "      <th>Text_only_content_Stemming</th>\n",
              "      <th>Text_w_header_Stemming</th>\n",
              "      <th>Text_only_content_lemmatize</th>\n",
              "      <th>Text_w_header_lemmatize</th>\n",
              "    </tr>\n",
              "  </thead>\n",
              "  <tbody>\n",
              "    <tr>\n",
              "      <th>0</th>\n",
              "      <td>technology</td>\n",
              "      <td>The sporting industry has come a long way sinc...</td>\n",
              "      <td>21st-Century Sports: How Digital Technology Is...</td>\n",
              "      <td>[sporting, industry, come, long, way, 60s, car...</td>\n",
              "      <td>[21st, century, sports, digital, technology, c...</td>\n",
              "      <td>[sport, industri, come, long, way, 60, carv, n...</td>\n",
              "      <td>[21st, centuri, sport, digit, technolog, chang...</td>\n",
              "      <td>[sporting, industry, come, long, way, 60, carv...</td>\n",
              "      <td>[21st, century, sport, digital, technology, ch...</td>\n",
              "    </tr>\n",
              "    <tr>\n",
              "      <th>1</th>\n",
              "      <td>business</td>\n",
              "      <td>Asian quake hits European sharesShares in Euro...</td>\n",
              "      <td>Asian quake hits European shares Asian quake h...</td>\n",
              "      <td>[asian, quake, hits, european, sharesshares, e...</td>\n",
              "      <td>[asian, quake, hits, european, shares, asian, ...</td>\n",
              "      <td>[asian, quak, hit, european, sharesshar, europ...</td>\n",
              "      <td>[asian, quak, hit, european, share, asian, qua...</td>\n",
              "      <td>[asian, quake, hit, european, sharesshares, eu...</td>\n",
              "      <td>[asian, quake, hit, european, share, asian, qu...</td>\n",
              "    </tr>\n",
              "    <tr>\n",
              "      <th>2</th>\n",
              "      <td>technology</td>\n",
              "      <td>BT is offering customers free internet telepho...</td>\n",
              "      <td>BT offers free net phone calls BT is offering ...</td>\n",
              "      <td>[bt, offering, customers, free, internet, tele...</td>\n",
              "      <td>[bt, offers, free, net, phone, calls, bt, offe...</td>\n",
              "      <td>[bt, offer, custom, free, internet, telephon, ...</td>\n",
              "      <td>[bt, offer, free, net, phone, call, bt, offer,...</td>\n",
              "      <td>[bt, offering, customer, free, internet, telep...</td>\n",
              "      <td>[bt, offer, free, net, phone, call, bt, offeri...</td>\n",
              "    </tr>\n",
              "    <tr>\n",
              "      <th>3</th>\n",
              "      <td>business</td>\n",
              "      <td>Barclays shares up on merger talkShares in UK ...</td>\n",
              "      <td>Barclays shares up on merger talk Barclays sha...</td>\n",
              "      <td>[barclays, shares, merger, talkshares, uk, ban...</td>\n",
              "      <td>[barclays, shares, merger, talk, barclays, sha...</td>\n",
              "      <td>[barclay, share, merger, talkshar, uk, bank, g...</td>\n",
              "      <td>[barclay, share, merger, talk, barclay, share,...</td>\n",
              "      <td>[barclays, share, merger, talkshares, uk, bank...</td>\n",
              "      <td>[barclays, share, merger, talk, barclays, shar...</td>\n",
              "    </tr>\n",
              "    <tr>\n",
              "      <th>4</th>\n",
              "      <td>sport</td>\n",
              "      <td>England centre Olly Barkley has been passed fi...</td>\n",
              "      <td>Barkley fit for match in Ireland England centr...</td>\n",
              "      <td>[england, centre, olly, barkley, passed, fit, ...</td>\n",
              "      <td>[barkley, fit, match, ireland, england, centre...</td>\n",
              "      <td>[england, centr, olli, barkley, pass, fit, sun...</td>\n",
              "      <td>[barkley, fit, match, ireland, england, centr,...</td>\n",
              "      <td>[england, centre, olly, barkley, passed, fit, ...</td>\n",
              "      <td>[barkley, fit, match, ireland, england, centre...</td>\n",
              "    </tr>\n",
              "  </tbody>\n",
              "</table>\n",
              "</div>"
            ],
            "text/plain": [
              "  Class_label  ...                            Text_w_header_lemmatize\n",
              "0  technology  ...  [21st, century, sport, digital, technology, ch...\n",
              "1    business  ...  [asian, quake, hit, european, share, asian, qu...\n",
              "2  technology  ...  [bt, offer, free, net, phone, call, bt, offeri...\n",
              "3    business  ...  [barclays, share, merger, talk, barclays, shar...\n",
              "4       sport  ...  [barkley, fit, match, ireland, england, centre...\n",
              "\n",
              "[5 rows x 9 columns]"
            ]
          },
          "metadata": {},
          "execution_count": 29
        }
      ]
    },
    {
      "cell_type": "markdown",
      "metadata": {
        "id": "64KrAk0oMrgM"
      },
      "source": [
        "## จัดรูปแบบใหม่ให้อยู่ในรูปของข้อความ"
      ]
    },
    {
      "cell_type": "code",
      "metadata": {
        "id": "clg8DKNMqQZh"
      },
      "source": [
        "#จัดรูปแบบใหม่อยู่ในรูปแบบข้อความ\n",
        "text_token__only_content = []\n",
        "for get in df_text['Text_only_content_Token_Stop']:\n",
        "    text_token__only_content.append(' '.join(get))\n",
        "\n",
        "text_token_w_header = []\n",
        "for get in df_text['Text_w_header_Token_Stop']:\n",
        "    text_token_w_header.append(' '.join(get))"
      ],
      "execution_count": null,
      "outputs": []
    },
    {
      "cell_type": "code",
      "metadata": {
        "id": "juH1abM5ngp1"
      },
      "source": [
        "#จัดรูปแบบใหม่อยู่ในรูปแบบข้อความ\n",
        "text_stemming_only_content = []\n",
        "for get in df_text['Text_only_content_Stemming']:\n",
        "    text_stemming_only_content.append(' '.join(get))\n",
        "\n",
        "#จัดรูปแบบใหม่อยู่ในรูปแบบข้อความ\n",
        "text_stemming_w_header = []\n",
        "for get in df_text['Text_w_header_Stemming']:\n",
        "    text_stemming_w_header.append(' '.join(get))"
      ],
      "execution_count": null,
      "outputs": []
    },
    {
      "cell_type": "code",
      "metadata": {
        "id": "iYJdn82HBUmU"
      },
      "source": [
        "#จัดรูปแบบใหม่อยู่ในรูปแบบข้อความ\n",
        "text_lemma_only_content = []\n",
        "for get in df_text['Text_only_content_lemmatize']:\n",
        "    text_lemma_only_content.append(' '.join(get))\n",
        "\n",
        "#จัดรูปแบบใหม่อยู่ในรูปแบบข้อความ\n",
        "text_lemma_w_header = []\n",
        "for get in df_text['Text_w_header_lemmatize']:\n",
        "    text_lemma_w_header.append(' '.join(get))"
      ],
      "execution_count": null,
      "outputs": []
    },
    {
      "cell_type": "code",
      "metadata": {
        "id": "qhSCWORJFuj1"
      },
      "source": [
        "df_text['Text_only_content_Token_Stop'] = text_token__only_content\n",
        "df_text['Text_w_header_Token_Stop'] = text_token_w_header\n",
        "df_text['Text_only_content_Stemming'] = text_stemming_only_content\n",
        "df_text['Text_w_header_Stemming'] = text_stemming_w_header\n",
        "df_text['Text_only_content_lemmatize'] = text_lemma_only_content\n",
        "df_text['Text_w_header_lemmatize'] = text_lemma_w_header"
      ],
      "execution_count": null,
      "outputs": []
    },
    {
      "cell_type": "markdown",
      "metadata": {
        "id": "3L1QaSjxGYxY"
      },
      "source": [
        "จากตรงนี้เราจะได้ไฟล์ที่ผ่านกระบวนการ Text preprocessing ที่อยู่ในรูปข้อความ โดยสามารถนำไปทำ Term Weighting ต่อได้"
      ]
    },
    {
      "cell_type": "code",
      "metadata": {
        "colab": {
          "base_uri": "https://localhost:8080/",
          "height": 445
        },
        "id": "yD2OuGOjE2uS",
        "outputId": "a05b46b4-855c-42cd-a8ae-98485ecdc6c0"
      },
      "source": [
        "df_text.head()"
      ],
      "execution_count": null,
      "outputs": [
        {
          "output_type": "execute_result",
          "data": {
            "text/html": [
              "<div>\n",
              "<style scoped>\n",
              "    .dataframe tbody tr th:only-of-type {\n",
              "        vertical-align: middle;\n",
              "    }\n",
              "\n",
              "    .dataframe tbody tr th {\n",
              "        vertical-align: top;\n",
              "    }\n",
              "\n",
              "    .dataframe thead th {\n",
              "        text-align: right;\n",
              "    }\n",
              "</style>\n",
              "<table border=\"1\" class=\"dataframe\">\n",
              "  <thead>\n",
              "    <tr style=\"text-align: right;\">\n",
              "      <th></th>\n",
              "      <th>Class_label</th>\n",
              "      <th>Text_only_content</th>\n",
              "      <th>Text_w_header</th>\n",
              "      <th>Text_only_content_Token_Stop</th>\n",
              "      <th>Text_w_header_Token_Stop</th>\n",
              "      <th>Text_only_content_Stemming</th>\n",
              "      <th>Text_w_header_Stemming</th>\n",
              "      <th>Text_only_content_lemmatize</th>\n",
              "      <th>Text_w_header_lemmatize</th>\n",
              "    </tr>\n",
              "  </thead>\n",
              "  <tbody>\n",
              "    <tr>\n",
              "      <th>0</th>\n",
              "      <td>technology</td>\n",
              "      <td>The sporting industry has come a long way sinc...</td>\n",
              "      <td>21st-Century Sports: How Digital Technology Is...</td>\n",
              "      <td>sporting industry come long way 60s carved nic...</td>\n",
              "      <td>21st century sports digital technology changin...</td>\n",
              "      <td>sport industri come long way 60 carv nich root...</td>\n",
              "      <td>21st centuri sport digit technolog chang face ...</td>\n",
              "      <td>sporting industry come long way 60 carved nich...</td>\n",
              "      <td>21st century sport digital technology changing...</td>\n",
              "    </tr>\n",
              "    <tr>\n",
              "      <th>1</th>\n",
              "      <td>business</td>\n",
              "      <td>Asian quake hits European sharesShares in Euro...</td>\n",
              "      <td>Asian quake hits European shares Asian quake h...</td>\n",
              "      <td>asian quake hits european sharesshares europe ...</td>\n",
              "      <td>asian quake hits european shares asian quake h...</td>\n",
              "      <td>asian quak hit european sharesshar europ lead ...</td>\n",
              "      <td>asian quak hit european share asian quak hit e...</td>\n",
              "      <td>asian quake hit european sharesshares europe l...</td>\n",
              "      <td>asian quake hit european share asian quake hit...</td>\n",
              "    </tr>\n",
              "    <tr>\n",
              "      <th>2</th>\n",
              "      <td>technology</td>\n",
              "      <td>BT is offering customers free internet telepho...</td>\n",
              "      <td>BT offers free net phone calls BT is offering ...</td>\n",
              "      <td>bt offering customers free internet telephone ...</td>\n",
              "      <td>bt offers free net phone calls bt offering cus...</td>\n",
              "      <td>bt offer custom free internet telephon call si...</td>\n",
              "      <td>bt offer free net phone call bt offer custom f...</td>\n",
              "      <td>bt offering customer free internet telephone c...</td>\n",
              "      <td>bt offer free net phone call bt offering custo...</td>\n",
              "    </tr>\n",
              "    <tr>\n",
              "      <th>3</th>\n",
              "      <td>business</td>\n",
              "      <td>Barclays shares up on merger talkShares in UK ...</td>\n",
              "      <td>Barclays shares up on merger talk Barclays sha...</td>\n",
              "      <td>barclays shares merger talkshares uk banking g...</td>\n",
              "      <td>barclays shares merger talk barclays shares me...</td>\n",
              "      <td>barclay share merger talkshar uk bank group ba...</td>\n",
              "      <td>barclay share merger talk barclay share merger...</td>\n",
              "      <td>barclays share merger talkshares uk banking gr...</td>\n",
              "      <td>barclays share merger talk barclays share merg...</td>\n",
              "    </tr>\n",
              "    <tr>\n",
              "      <th>4</th>\n",
              "      <td>sport</td>\n",
              "      <td>England centre Olly Barkley has been passed fi...</td>\n",
              "      <td>Barkley fit for match in Ireland England centr...</td>\n",
              "      <td>england centre olly barkley passed fit sunday ...</td>\n",
              "      <td>barkley fit match ireland england centre olly ...</td>\n",
              "      <td>england centr olli barkley pass fit sunday nat...</td>\n",
              "      <td>barkley fit match ireland england centr olli b...</td>\n",
              "      <td>england centre olly barkley passed fit sunday ...</td>\n",
              "      <td>barkley fit match ireland england centre olly ...</td>\n",
              "    </tr>\n",
              "  </tbody>\n",
              "</table>\n",
              "</div>"
            ],
            "text/plain": [
              "  Class_label  ...                            Text_w_header_lemmatize\n",
              "0  technology  ...  21st century sport digital technology changing...\n",
              "1    business  ...  asian quake hit european share asian quake hit...\n",
              "2  technology  ...  bt offer free net phone call bt offering custo...\n",
              "3    business  ...  barclays share merger talk barclays share merg...\n",
              "4       sport  ...  barkley fit match ireland england centre olly ...\n",
              "\n",
              "[5 rows x 9 columns]"
            ]
          },
          "metadata": {},
          "execution_count": 34
        }
      ]
    },
    {
      "cell_type": "code",
      "metadata": {
        "colab": {
          "base_uri": "https://localhost:8080/"
        },
        "id": "FacpKswBgWZf",
        "outputId": "c09e9ff4-48e5-44c0-fdcc-06bfca38092d"
      },
      "source": [
        "len(df_text['Text_only_content_Token_Stop'][0])"
      ],
      "execution_count": null,
      "outputs": [
        {
          "output_type": "execute_result",
          "data": {
            "text/plain": [
              "778"
            ]
          },
          "metadata": {},
          "execution_count": 35
        }
      ]
    },
    {
      "cell_type": "code",
      "metadata": {
        "colab": {
          "base_uri": "https://localhost:8080/"
        },
        "id": "SMa5JsvTgfJk",
        "outputId": "75997545-e747-4139-ecfd-0521bacbb3f6"
      },
      "source": [
        "len(df_text['Text_only_content_lemmatize'][0])"
      ],
      "execution_count": null,
      "outputs": [
        {
          "output_type": "execute_result",
          "data": {
            "text/plain": [
              "755"
            ]
          },
          "metadata": {},
          "execution_count": 36
        }
      ]
    },
    {
      "cell_type": "code",
      "metadata": {
        "colab": {
          "base_uri": "https://localhost:8080/",
          "height": 343
        },
        "id": "TqWjLiOkNW3Q",
        "outputId": "3d14570b-5eec-4fb4-e2ee-6f6d66fca8ff"
      },
      "source": [
        "df_text.groupby(\"Class_label\").Class_label.count().plot.bar(ylim=0)"
      ],
      "execution_count": null,
      "outputs": [
        {
          "output_type": "execute_result",
          "data": {
            "text/plain": [
              "<matplotlib.axes._subplots.AxesSubplot at 0x7fc845834990>"
            ]
          },
          "metadata": {},
          "execution_count": 37
        },
        {
          "output_type": "display_data",
          "data": {
            "image/png": "[encoded data removed]",
            "text/plain": [
              "<Figure size 432x288 with 1 Axes>"
            ]
          },
          "metadata": {
            "needs_background": "light"
          }
        }
      ]
    },
    {
      "cell_type": "markdown",
      "metadata": {
        "id": "VdB1AZgo9RiE"
      },
      "source": [
        "## Term Weighting : Term Frequency–Inverse Document Frequency (TF-IDF)"
      ]
    },
    {
      "cell_type": "code",
      "metadata": {
        "id": "nw8lD-AUHKVD"
      },
      "source": [
        "#ฟังก์ชันสำหรับการทำกระบวนการ TF-IDF\n",
        "def tfidf(cor):\n",
        "    from sklearn.feature_extraction.text import TfidfVectorizer\n",
        "    vectorizer = TfidfVectorizer(min_df = 5) #ตัดค่า min df ที่ 5 เพื่อลด noise ข้อมูล\n",
        "    X = vectorizer.fit_transform(cor) \n",
        "    print(X.shape)\n",
        "    return X"
      ],
      "execution_count": null,
      "outputs": []
    },
    {
      "cell_type": "markdown",
      "metadata": {
        "id": "h9SCnlaVH49d"
      },
      "source": [
        "Vectorizer fit transform Text Only Content"
      ]
    },
    {
      "cell_type": "code",
      "metadata": {
        "colab": {
          "base_uri": "https://localhost:8080/"
        },
        "id": "U1JP5P_H2Bc3",
        "outputId": "d9a8ca74-6309-435c-ae4b-6426cb07b93f"
      },
      "source": [
        "test = tfidf(df_text['Text_only_content'])"
      ],
      "execution_count": null,
      "outputs": [
        {
          "output_type": "stream",
          "name": "stdout",
          "text": [
            "(1408, 7036)\n"
          ]
        }
      ]
    },
    {
      "cell_type": "code",
      "metadata": {
        "colab": {
          "base_uri": "https://localhost:8080/"
        },
        "id": "eKKVIaRu2N_5",
        "outputId": "af07fc28-bf71-4faf-8c3a-89338fd075f9"
      },
      "source": [
        "test = tfidf(df_text['Text_w_header'])"
      ],
      "execution_count": null,
      "outputs": [
        {
          "output_type": "stream",
          "name": "stdout",
          "text": [
            "(1408, 7073)\n"
          ]
        }
      ]
    },
    {
      "cell_type": "code",
      "metadata": {
        "colab": {
          "base_uri": "https://localhost:8080/"
        },
        "id": "CIWrkoqZHVT2",
        "outputId": "5bff44f4-983a-4288-88e2-16fd7600264a"
      },
      "source": [
        "X_token_content = tfidf(df_text['Text_only_content_Token_Stop'])\n",
        "X_stem_content = tfidf(df_text['Text_only_content_Stemming'])\n",
        "X_lemma_content = tfidf(df_text['Text_only_content_lemmatize'])"
      ],
      "execution_count": null,
      "outputs": [
        {
          "output_type": "stream",
          "name": "stdout",
          "text": [
            "(1408, 6771)\n",
            "(1408, 4940)\n",
            "(1408, 6091)\n"
          ]
        }
      ]
    },
    {
      "cell_type": "markdown",
      "metadata": {
        "id": "kwPo5AvRH77T"
      },
      "source": [
        "Vectorizer fit transform Text Content With Header"
      ]
    },
    {
      "cell_type": "code",
      "metadata": {
        "colab": {
          "base_uri": "https://localhost:8080/"
        },
        "id": "EfHhRuWrH_8z",
        "outputId": "9f8fb43f-296c-472f-caba-78383c3cce31"
      },
      "source": [
        "X_token_header = tfidf(df_text['Text_w_header_Token_Stop'])\n",
        "X_stem_header = tfidf(df_text['Text_w_header_Stemming'])\n",
        "X_lemma_header = tfidf(df_text['Text_w_header_lemmatize'])"
      ],
      "execution_count": null,
      "outputs": [
        {
          "output_type": "stream",
          "name": "stdout",
          "text": [
            "(1408, 6808)\n",
            "(1408, 4956)\n",
            "(1408, 6119)\n"
          ]
        }
      ]
    },
    {
      "cell_type": "markdown",
      "metadata": {
        "id": "dlYcoQzzCbO4"
      },
      "source": [
        "## Modeling"
      ]
    },
    {
      "cell_type": "markdown",
      "metadata": {
        "id": "i4UMINhvwSMU"
      },
      "source": [
        "ในส่วนของโมเดลนั้นจะนำมาใช้ทั้งสิ้น 5 โมเดลด้วยกัน คือ\n",
        "\n",
        "\n",
        "1.   Logistic Regression\n",
        "2.   Stochastic Gradient descent Classifier\n",
        "3.   Multinomial Navie Bayes\n",
        "4.   K-Nearest Neighbors Classifier\n",
        "5.   Support Vector Classifier\n",
        "\n",
        "\n",
        "\n",
        "\n"
      ]
    },
    {
      "cell_type": "code",
      "metadata": {
        "id": "m0wyeUr5itLC"
      },
      "source": [
        "Y = df_text['Class_label']"
      ],
      "execution_count": null,
      "outputs": []
    },
    {
      "cell_type": "markdown",
      "metadata": {
        "id": "srneJpuzfqr4"
      },
      "source": [
        "## Logistic Regression"
      ]
    },
    {
      "cell_type": "markdown",
      "metadata": {
        "id": "5KUY5dj3maGf"
      },
      "source": [
        "LogisticRegression เป็นโมเดลประเภท Classifer ที่สามารถใช้งานได้หลากหลายมาก การถดถอยโลจิสติกจะสร้างผลลัพธ์ในรูปแบบไบนารีซึ่งใช้ในการทำนายผลลัพธ์ของตัวแปรตามหมวดหมู่ ซึ่งสามารถนำไปใช้ได้กับ Multiple Classification ได้ด้วย "
      ]
    },
    {
      "cell_type": "code",
      "metadata": {
        "id": "W0HHRZP8Vc3e"
      },
      "source": [
        "#ฟังก์ชันสำหรับการ tune model Logisic Regression\n",
        "def tunelogistic(X, Y):\n",
        "    from sklearn.linear_model import LogisticRegression\n",
        "\n",
        "    model = LogisticRegression()\n",
        "\n",
        "    cv = RepeatedStratifiedKFold(n_splits=10, n_repeats=3, random_state=1) #ใช้ RepeatedStratifiedKFold เพื่อทำ Cross Validation ก่อนนำไป tuneing\n",
        "    #Set Param\n",
        "    Param = dict()\n",
        "    Param['solver'] = ['newton-cg', 'lbfgs', 'liblinear']\n",
        "    Param['penalty'] = ['none', 'l1', 'l2', 'elasticnet']\n",
        "    Param['C'] = [1e-5, 1e-4, 1e-3, 1e-2, 1e-1, 1, 10, 100]\n",
        "    #RandomizedSearchCV\n",
        "    search = RandomizedSearchCV(model, Param, scoring='accuracy', n_jobs=-1, cv=cv) #ตั้ง n_jobs = -1 เพื่อให้ทำการ using all processors.\n",
        "    #fit\n",
        "    result = search.fit(X, Y)\n",
        "    # summarize result\n",
        "    print('Best Score: %s' % result.best_score_)\n",
        "    print('Best Hyperparameters: %s' % result.best_params_)\n",
        "    return result.best_params_"
      ],
      "execution_count": null,
      "outputs": []
    },
    {
      "cell_type": "code",
      "metadata": {
        "id": "qN0d8zqEqmB3"
      },
      "source": [
        "#ฟังก์ชันสำหรับการสร้าง model Logistic Regression\n",
        "def modellogis(X_train, Y_train, X_test, Y_test, solve, penal, C):\n",
        "    from sklearn.linear_model import LogisticRegression\n",
        "    model_logis = LogisticRegression(solver=solve, penalty= penal, C = C)\n",
        "    model_logis.fit(X_train, Y_train)\n",
        "    y_pred_logis = model_logis.predict(X_test)\n",
        "    print('Accuracy Score(tuned) : %f' %(accuracy_score(Y_test, y_pred_logis)))\n",
        "    return model_logis"
      ],
      "execution_count": null,
      "outputs": []
    },
    {
      "cell_type": "markdown",
      "metadata": {
        "id": "R4-6O7Cgibgp"
      },
      "source": [
        "### Test model with Only Content Data"
      ]
    },
    {
      "cell_type": "markdown",
      "metadata": {
        "id": "SavChJb8xVNl"
      },
      "source": [
        "*ลองนำโมเดลมาใช้กับ Only Content Data*"
      ]
    },
    {
      "cell_type": "code",
      "metadata": {
        "colab": {
          "base_uri": "https://localhost:8080/"
        },
        "id": "STImWMnSilRl",
        "outputId": "3c408bfa-25d7-447c-f3bc-004f648f9df3"
      },
      "source": [
        "#stemming\n",
        "X_train, X_test, Y_train, Y_test = train_test_split(X_stem_content, Y, test_size=.3, random_state=42)\n",
        "\n",
        "result_best = tunelogistic(X_stem_content, Y)\n",
        "model_logis = modellogis(X_train, Y_train, X_test, Y_test, result_best['solver'], result_best['penalty'], result_best['C'])"
      ],
      "execution_count": null,
      "outputs": [
        {
          "output_type": "stream",
          "name": "stdout",
          "text": [
            "Best Score: 0.9850861195542048\n",
            "Best Hyperparameters: {'solver': 'liblinear', 'penalty': 'l2', 'C': 100}\n",
            "Accuracy Score(tuned) : 0.990544\n"
          ]
        }
      ]
    },
    {
      "cell_type": "markdown",
      "metadata": {
        "id": "vZvRsSLfMiV2"
      },
      "source": [
        "นำผลลัพธ์ที่ได้เข้าสู่ DataFrame"
      ]
    },
    {
      "cell_type": "code",
      "metadata": {
        "id": "5NuJXwRySyem"
      },
      "source": [
        "evala = {\n",
        "    'Model': ['Logistic Regression'],\n",
        "    'Accuracy' : accuracy_score(Y_test, model_logis.predict(X_test)),\n",
        "    'Type' : 'stemming',\n",
        "    'Data' : 'Only_Content'\n",
        "}\n",
        "eval_logis = pd.DataFrame(evala)"
      ],
      "execution_count": null,
      "outputs": []
    },
    {
      "cell_type": "code",
      "metadata": {
        "colab": {
          "base_uri": "https://localhost:8080/"
        },
        "id": "zep4fklJi4kv",
        "outputId": "fddfeee8-8f92-4ecc-f015-f24ba84fb11f"
      },
      "source": [
        "#lemmatize\n",
        "\n",
        "X_train, X_test, Y_train, Y_test = train_test_split(X_lemma_content, Y, test_size=.3, random_state=42)\n",
        "\n",
        "result_best = tunelogistic(X_lemma_content, Y)\n",
        "model_logis = modellogis(X_train, Y_train, X_test, Y_test, result_best['solver'], result_best['penalty'], result_best['C'])"
      ],
      "execution_count": null,
      "outputs": [
        {
          "output_type": "stream",
          "name": "stdout",
          "text": [
            "Best Score: 0.9843785883147584\n",
            "Best Hyperparameters: {'solver': 'newton-cg', 'penalty': 'l2', 'C': 100}\n",
            "Accuracy Score(tuned) : 0.990544\n"
          ]
        }
      ]
    },
    {
      "cell_type": "markdown",
      "metadata": {
        "id": "4_IJzeVwMmAT"
      },
      "source": [
        "นำผลลัพธ์ที่ได้เข้าสู่ DataFrame"
      ]
    },
    {
      "cell_type": "code",
      "metadata": {
        "id": "akSqbCfbTSb5"
      },
      "source": [
        "evala = {\n",
        "    'Model': ['Logistic Regression'],\n",
        "    'Accuracy' : accuracy_score(Y_test, model_logis.predict(X_test)),\n",
        "    'Type' : 'lemmatize',\n",
        "    'Data' : 'Only_Content'\n",
        "}\n",
        "eval2 = pd.DataFrame(evala)\n",
        "eval_logis = eval_logis.append(eval2)"
      ],
      "execution_count": null,
      "outputs": []
    },
    {
      "cell_type": "markdown",
      "metadata": {
        "id": "mAfZkayDifQo"
      },
      "source": [
        "### Test model with Content plus Header Data"
      ]
    },
    {
      "cell_type": "markdown",
      "metadata": {
        "id": "BiPwEriExcND"
      },
      "source": [
        "*ลองนำโมเดลมาใช้กับ Content with Header Data*"
      ]
    },
    {
      "cell_type": "code",
      "metadata": {
        "id": "dR61HijcUKg0",
        "colab": {
          "base_uri": "https://localhost:8080/"
        },
        "outputId": "22a33cc2-75e1-41c2-c795-a40329e6bbed"
      },
      "source": [
        "#stemming\n",
        "X_train, X_test, Y_train, Y_test = train_test_split(X_stem_header, Y, test_size=.3, random_state=42)\n",
        "\n",
        "result_best = tunelogistic(X_stem_header, Y)\n",
        "model_logis = modellogis(X_train, Y_train, X_test, Y_test, result_best['solver'], result_best['penalty'], result_best['C'])"
      ],
      "execution_count": null,
      "outputs": [
        {
          "output_type": "stream",
          "name": "stdout",
          "text": [
            "Best Score: 0.9843785883147584\n",
            "Best Hyperparameters: {'solver': 'lbfgs', 'penalty': 'l2', 'C': 10}\n",
            "Accuracy Score(tuned) : 0.985816\n"
          ]
        }
      ]
    },
    {
      "cell_type": "markdown",
      "metadata": {
        "id": "FHBUH6hWMnA_"
      },
      "source": [
        "นำผลลัพธ์ที่ได้เข้าสู่ DataFrame"
      ]
    },
    {
      "cell_type": "code",
      "metadata": {
        "id": "7IfBo3TWUPBn"
      },
      "source": [
        "evala = {\n",
        "    'Model': ['Logistic Regression'],\n",
        "    'Accuracy' : accuracy_score(Y_test, model_logis.predict(X_test)),\n",
        "    'Type' : 'stemming',\n",
        "    'Data' : 'With_Header'\n",
        "}\n",
        "eval2 = pd.DataFrame(evala)\n",
        "eval_logis = eval_logis.append(eval2)"
      ],
      "execution_count": null,
      "outputs": []
    },
    {
      "cell_type": "code",
      "metadata": {
        "colab": {
          "base_uri": "https://localhost:8080/"
        },
        "id": "dUOainHdkSwK",
        "outputId": "53410149-39a7-48db-a060-055e2594269c"
      },
      "source": [
        "#lemmatize\n",
        "X_train, X_test, Y_train, Y_test = train_test_split(X_lemma_header, Y, test_size=.3, random_state=42)\n",
        "\n",
        "result_best = tunelogistic(X_lemma_header, Y)\n",
        "model_logis = modellogis(X_train, Y_train, X_test, Y_test, result_best['solver'], result_best['penalty'], result_best['C'])"
      ],
      "execution_count": null,
      "outputs": [
        {
          "output_type": "stream",
          "name": "stdout",
          "text": [
            "Best Score: 0.9843768996960487\n",
            "Best Hyperparameters: {'solver': 'newton-cg', 'penalty': 'l2', 'C': 100}\n",
            "Accuracy Score(tuned) : 0.990544\n"
          ]
        }
      ]
    },
    {
      "cell_type": "markdown",
      "metadata": {
        "id": "uC0ueqtsMqRa"
      },
      "source": [
        "นำผลลัพธ์ที่ได้เข้าสู่ DataFrame"
      ]
    },
    {
      "cell_type": "code",
      "metadata": {
        "id": "GQcy-v54WB1N"
      },
      "source": [
        "evala = {\n",
        "    'Model': ['Logistic Regression'],\n",
        "    'Accuracy' : accuracy_score(Y_test, model_logis.predict(X_test)),\n",
        "    'Type' : 'lemmatize',\n",
        "    'Data' : 'With_Header'\n",
        "}\n",
        "eval2 = pd.DataFrame(evala)\n",
        "eval_logis = eval_logis.append(eval2)"
      ],
      "execution_count": null,
      "outputs": []
    },
    {
      "cell_type": "markdown",
      "metadata": {
        "id": "RUtNxRreMYwm"
      },
      "source": [
        "### Summary"
      ]
    },
    {
      "cell_type": "code",
      "metadata": {
        "colab": {
          "base_uri": "https://localhost:8080/",
          "height": 173
        },
        "id": "_DIr2MQ1WGlV",
        "outputId": "f4347d81-e8e4-4342-937d-69d18ff8aed9"
      },
      "source": [
        "eval_logis"
      ],
      "execution_count": null,
      "outputs": [
        {
          "output_type": "execute_result",
          "data": {
            "text/html": [
              "<div>\n",
              "<style scoped>\n",
              "    .dataframe tbody tr th:only-of-type {\n",
              "        vertical-align: middle;\n",
              "    }\n",
              "\n",
              "    .dataframe tbody tr th {\n",
              "        vertical-align: top;\n",
              "    }\n",
              "\n",
              "    .dataframe thead th {\n",
              "        text-align: right;\n",
              "    }\n",
              "</style>\n",
              "<table border=\"1\" class=\"dataframe\">\n",
              "  <thead>\n",
              "    <tr style=\"text-align: right;\">\n",
              "      <th></th>\n",
              "      <th>Model</th>\n",
              "      <th>Accuracy</th>\n",
              "      <th>Type</th>\n",
              "      <th>Data</th>\n",
              "    </tr>\n",
              "  </thead>\n",
              "  <tbody>\n",
              "    <tr>\n",
              "      <th>0</th>\n",
              "      <td>Logistic Regression</td>\n",
              "      <td>0.990544</td>\n",
              "      <td>stemming</td>\n",
              "      <td>Only_Content</td>\n",
              "    </tr>\n",
              "    <tr>\n",
              "      <th>0</th>\n",
              "      <td>Logistic Regression</td>\n",
              "      <td>0.990544</td>\n",
              "      <td>lemmatize</td>\n",
              "      <td>Only_Content</td>\n",
              "    </tr>\n",
              "    <tr>\n",
              "      <th>0</th>\n",
              "      <td>Logistic Regression</td>\n",
              "      <td>0.985816</td>\n",
              "      <td>stemming</td>\n",
              "      <td>With_Header</td>\n",
              "    </tr>\n",
              "    <tr>\n",
              "      <th>0</th>\n",
              "      <td>Logistic Regression</td>\n",
              "      <td>0.990544</td>\n",
              "      <td>lemmatize</td>\n",
              "      <td>With_Header</td>\n",
              "    </tr>\n",
              "  </tbody>\n",
              "</table>\n",
              "</div>"
            ],
            "text/plain": [
              "                 Model  Accuracy       Type          Data\n",
              "0  Logistic Regression  0.990544   stemming  Only_Content\n",
              "0  Logistic Regression  0.990544  lemmatize  Only_Content\n",
              "0  Logistic Regression  0.985816   stemming   With_Header\n",
              "0  Logistic Regression  0.990544  lemmatize   With_Header"
            ]
          },
          "metadata": {},
          "execution_count": 54
        }
      ]
    },
    {
      "cell_type": "markdown",
      "metadata": {
        "id": "7tigunOeoncz"
      },
      "source": [
        "จากผลสรุปตรงนี้จะเห็นได้ว่าการใช้ข้อมูล Only_Content จะทำให้ได้ค่า Accuracy ที่ดีกว่าแบบ With_Header "
      ]
    },
    {
      "cell_type": "markdown",
      "metadata": {
        "id": "tXyVG1SUf6UQ"
      },
      "source": [
        "## Stochastic Gradient descent Classifier"
      ]
    },
    {
      "cell_type": "markdown",
      "metadata": {
        "id": "XjRyTpPBgHBQ"
      },
      "source": [
        "SGD เป็นลักษณะนามใช้โมเดลเชิงเส้นแบบปกติพร้อม Stochastic Gradient Descent"
      ]
    },
    {
      "cell_type": "code",
      "metadata": {
        "id": "BnIy8Krj8Mip"
      },
      "source": [
        "#ฟังก์ชันสำหรับการ tune model SGD Classifier\n",
        "def tunesgd(X, Y):\n",
        "    from sklearn.linear_model import SGDClassifier\n",
        "\n",
        "    model = SGDClassifier(random_state=1, max_iter=5, tol=1e-3)\n",
        "\n",
        "    param = {'loss': ('hinge', 'log', 'modified_huber'),\n",
        "            'penalty': ['none', 'l1', 'l2', 'elasticnet']}\n",
        "\n",
        "    search = RandomizedSearchCV(model, param, cv=3, scoring='accuracy')\n",
        "    result = search.fit(X, Y)\n",
        "    # summarize result\n",
        "    print('Best Score: %s' % result.best_score_)\n",
        "    print('Best Hyperparameters: %s' % result.best_params_)\n",
        "    return result.best_params_"
      ],
      "execution_count": null,
      "outputs": []
    },
    {
      "cell_type": "code",
      "metadata": {
        "id": "EabkG581AwNX"
      },
      "source": [
        "#ฟังก์ชันสำหรับการสร้าง model Stochastic Gradient descent Classifier\n",
        "def sgdmodel(X_train, Y_train, X_test, Y_test, los, penal):\n",
        "    from sklearn.linear_model import SGDClassifier\n",
        "    sgd = SGDClassifier(loss=los, penalty=penal)\n",
        "    sgd.fit(X_train, Y_train)\n",
        "    y_pred = sgd.predict(X_test)\n",
        "    print('Accuracy Score(tuned) : %f' %(accuracy_score(Y_test, y_pred)))\n",
        "    return sgd"
      ],
      "execution_count": null,
      "outputs": []
    },
    {
      "cell_type": "markdown",
      "metadata": {
        "id": "3fwexEy8YCT3"
      },
      "source": [
        "### Test model with Only Content Data"
      ]
    },
    {
      "cell_type": "markdown",
      "metadata": {
        "id": "FpuL7ThFxqgj"
      },
      "source": [
        "*ลองนำโมเดลมาใช้กับ Only Content Data*"
      ]
    },
    {
      "cell_type": "code",
      "metadata": {
        "colab": {
          "base_uri": "https://localhost:8080/"
        },
        "id": "UGFJT96dYgC8",
        "outputId": "45fdce74-6446-4214-9304-a28a7473545a"
      },
      "source": [
        "#stemming\n",
        "X_train, X_test, Y_train, Y_test = train_test_split(X_stem_content, Y, test_size=.3, random_state=42)\n",
        "\n",
        "result_best = tunesgd(X_stem_content, Y)\n",
        "\n",
        "model_sgd = sgdmodel(X_train, Y_train, X_test, Y_test, result_best['loss'], result_best['penalty'])"
      ],
      "execution_count": null,
      "outputs": [
        {
          "output_type": "stream",
          "name": "stderr",
          "text": [
            "/usr/local/lib/python3.7/dist-packages/sklearn/linear_model/_stochastic_gradient.py:557: ConvergenceWarning: Maximum number of iteration reached before convergence. Consider increasing max_iter to improve the fit.\n",
            "  ConvergenceWarning)\n"
          ]
        },
        {
          "output_type": "stream",
          "name": "stdout",
          "text": [
            "Best Score: 0.9801100878585794\n",
            "Best Hyperparameters: {'penalty': 'none', 'loss': 'log'}\n",
            "Accuracy Score(tuned) : 0.990544\n"
          ]
        }
      ]
    },
    {
      "cell_type": "markdown",
      "metadata": {
        "id": "eKnRGmjeMwko"
      },
      "source": [
        "นำผลลัพธ์ที่ได้เข้าสู่ DataFrame"
      ]
    },
    {
      "cell_type": "code",
      "metadata": {
        "id": "f6fmnAJUYg64"
      },
      "source": [
        "evala = {\n",
        "    'Model': ['SGDClassifier'],\n",
        "    'Accuracy' : accuracy_score(Y_test, model_sgd.predict(X_test)),\n",
        "    'Type' : 'stemming',\n",
        "    'Data' : 'Only_Content'\n",
        "}\n",
        "eval_sgd = pd.DataFrame(evala)"
      ],
      "execution_count": null,
      "outputs": []
    },
    {
      "cell_type": "code",
      "metadata": {
        "colab": {
          "base_uri": "https://localhost:8080/"
        },
        "id": "E0W3buQjZuLX",
        "outputId": "c9326ec2-a9af-4bcd-8a1a-faa76d435e9f"
      },
      "source": [
        "#lemmatize\n",
        "X_train, X_test, Y_train, Y_test = train_test_split(X_lemma_content, Y, test_size=.3, random_state=42)\n",
        "\n",
        "result_best = tunesgd(X_lemma_content, Y)\n",
        "model_sgd = sgdmodel(X_train, Y_train, X_test, Y_test, result_best['loss'], result_best['penalty'])"
      ],
      "execution_count": null,
      "outputs": [
        {
          "output_type": "stream",
          "name": "stderr",
          "text": [
            "/usr/local/lib/python3.7/dist-packages/sklearn/linear_model/_stochastic_gradient.py:557: ConvergenceWarning: Maximum number of iteration reached before convergence. Consider increasing max_iter to improve the fit.\n",
            "  ConvergenceWarning)\n"
          ]
        },
        {
          "output_type": "stream",
          "name": "stdout",
          "text": [
            "Best Score: 0.9808193077167354\n",
            "Best Hyperparameters: {'penalty': 'l2', 'loss': 'log'}\n",
            "Accuracy Score(tuned) : 0.988180\n"
          ]
        }
      ]
    },
    {
      "cell_type": "markdown",
      "metadata": {
        "id": "ce8eRSf5MxNo"
      },
      "source": [
        "นำผลลัพธ์ที่ได้เข้าสู่ DataFrame"
      ]
    },
    {
      "cell_type": "code",
      "metadata": {
        "id": "05LrXmysZuxo"
      },
      "source": [
        "evala = {\n",
        "    'Model': ['SGDClassifier'],\n",
        "    'Accuracy' : accuracy_score(Y_test, model_sgd.predict(X_test)),\n",
        "    'Type' : 'lemmatize',\n",
        "    'Data' : 'Only_Content'\n",
        "}\n",
        "eval2 = pd.DataFrame(evala)\n",
        "eval_sgd = eval_sgd.append(eval2)"
      ],
      "execution_count": null,
      "outputs": []
    },
    {
      "cell_type": "markdown",
      "metadata": {
        "id": "6uK9O1aJYFfO"
      },
      "source": [
        "### Test model with Content plus Header Data"
      ]
    },
    {
      "cell_type": "markdown",
      "metadata": {
        "id": "ZISdzTyPxvdi"
      },
      "source": [
        "*ลองนำโมเดลมาใช้กับ Content with Header Data*"
      ]
    },
    {
      "cell_type": "code",
      "metadata": {
        "colab": {
          "base_uri": "https://localhost:8080/"
        },
        "id": "1-U58LQvagat",
        "outputId": "e08800ca-7c01-4e6e-ca8d-de38fa0ded0e"
      },
      "source": [
        "#stemming\n",
        "X_train, X_test, Y_train, Y_test = train_test_split(X_stem_header, Y, test_size=.3, random_state=42)\n",
        "\n",
        "result_best = tunesgd(X_stem_header, Y)\n",
        "\n",
        "model_sgd = sgdmodel(X_train, Y_train, X_test, Y_test, result_best['loss'], result_best['penalty'])"
      ],
      "execution_count": null,
      "outputs": [
        {
          "output_type": "stream",
          "name": "stderr",
          "text": [
            "/usr/local/lib/python3.7/dist-packages/sklearn/linear_model/_stochastic_gradient.py:557: ConvergenceWarning: Maximum number of iteration reached before convergence. Consider increasing max_iter to improve the fit.\n",
            "  ConvergenceWarning)\n"
          ]
        },
        {
          "output_type": "stream",
          "name": "stdout",
          "text": [
            "Best Score: 0.9815270153790318\n",
            "Best Hyperparameters: {'penalty': 'l1', 'loss': 'log'}\n",
            "Accuracy Score(tuned) : 0.985816\n"
          ]
        }
      ]
    },
    {
      "cell_type": "markdown",
      "metadata": {
        "id": "HZGL_7q3MyBB"
      },
      "source": [
        "นำผลลัพธ์ที่ได้เข้าสู่ DataFrame"
      ]
    },
    {
      "cell_type": "code",
      "metadata": {
        "id": "FiGTfDQFaoJG"
      },
      "source": [
        "evala = {\n",
        "    'Model': ['SGDClassifier'],\n",
        "    'Accuracy' : accuracy_score(Y_test, model_sgd.predict(X_test)),\n",
        "    'Type' : 'stemming',\n",
        "    'Data' : 'With_Header'\n",
        "}\n",
        "eval2 = pd.DataFrame(evala)\n",
        "eval_sgd = eval_sgd.append(eval2)"
      ],
      "execution_count": null,
      "outputs": []
    },
    {
      "cell_type": "code",
      "metadata": {
        "colab": {
          "base_uri": "https://localhost:8080/"
        },
        "id": "sqQBIhCKapUM",
        "outputId": "86188f91-c5b0-46fd-bca6-88eb63e01df2"
      },
      "source": [
        "#lemmatize\n",
        "X_train, X_test, Y_train, Y_test = train_test_split(X_lemma_header, Y, test_size=.3, random_state=42)\n",
        "\n",
        "result_best = tunesgd(X_lemma_header, Y)\n",
        "model_sgd = sgdmodel(X_train, Y_train, X_test, Y_test, result_best['loss'], result_best['penalty'])"
      ],
      "execution_count": null,
      "outputs": [
        {
          "output_type": "stream",
          "name": "stderr",
          "text": [
            "/usr/local/lib/python3.7/dist-packages/sklearn/linear_model/_stochastic_gradient.py:557: ConvergenceWarning: Maximum number of iteration reached before convergence. Consider increasing max_iter to improve the fit.\n",
            "  ConvergenceWarning)\n"
          ]
        },
        {
          "output_type": "stream",
          "name": "stdout",
          "text": [
            "Best Score: 0.9801116000544391\n",
            "Best Hyperparameters: {'penalty': 'l2', 'loss': 'hinge'}\n",
            "Accuracy Score(tuned) : 0.988180\n"
          ]
        }
      ]
    },
    {
      "cell_type": "markdown",
      "metadata": {
        "id": "f29hHXDeMyYk"
      },
      "source": [
        "นำผลลัพธ์ที่ได้เข้าสู่ DataFrame"
      ]
    },
    {
      "cell_type": "code",
      "metadata": {
        "id": "PQ5eX5egaqHe"
      },
      "source": [
        "evala = {\n",
        "    'Model': ['SGDClassifier'],\n",
        "    'Accuracy' : accuracy_score(Y_test, model_sgd.predict(X_test)),\n",
        "    'Type' : 'lemmatize',\n",
        "    'Data' : 'With_Header'\n",
        "}\n",
        "eval2 = pd.DataFrame(evala)\n",
        "eval_sgd = eval_sgd.append(eval2)"
      ],
      "execution_count": null,
      "outputs": []
    },
    {
      "cell_type": "markdown",
      "metadata": {
        "id": "-YubmvJqYLzw"
      },
      "source": [
        "###Summary"
      ]
    },
    {
      "cell_type": "code",
      "metadata": {
        "colab": {
          "base_uri": "https://localhost:8080/",
          "height": 173
        },
        "id": "cLCYPXVjbDcY",
        "outputId": "295756ce-d785-4848-d8ad-2f8cf2def6c6"
      },
      "source": [
        "eval_sgd"
      ],
      "execution_count": null,
      "outputs": [
        {
          "output_type": "execute_result",
          "data": {
            "text/html": [
              "<div>\n",
              "<style scoped>\n",
              "    .dataframe tbody tr th:only-of-type {\n",
              "        vertical-align: middle;\n",
              "    }\n",
              "\n",
              "    .dataframe tbody tr th {\n",
              "        vertical-align: top;\n",
              "    }\n",
              "\n",
              "    .dataframe thead th {\n",
              "        text-align: right;\n",
              "    }\n",
              "</style>\n",
              "<table border=\"1\" class=\"dataframe\">\n",
              "  <thead>\n",
              "    <tr style=\"text-align: right;\">\n",
              "      <th></th>\n",
              "      <th>Model</th>\n",
              "      <th>Accuracy</th>\n",
              "      <th>Type</th>\n",
              "      <th>Data</th>\n",
              "    </tr>\n",
              "  </thead>\n",
              "  <tbody>\n",
              "    <tr>\n",
              "      <th>0</th>\n",
              "      <td>SGDClassifier</td>\n",
              "      <td>0.990544</td>\n",
              "      <td>stemming</td>\n",
              "      <td>Only_Content</td>\n",
              "    </tr>\n",
              "    <tr>\n",
              "      <th>0</th>\n",
              "      <td>SGDClassifier</td>\n",
              "      <td>0.988180</td>\n",
              "      <td>lemmatize</td>\n",
              "      <td>Only_Content</td>\n",
              "    </tr>\n",
              "    <tr>\n",
              "      <th>0</th>\n",
              "      <td>SGDClassifier</td>\n",
              "      <td>0.985816</td>\n",
              "      <td>stemming</td>\n",
              "      <td>With_Header</td>\n",
              "    </tr>\n",
              "    <tr>\n",
              "      <th>0</th>\n",
              "      <td>SGDClassifier</td>\n",
              "      <td>0.988180</td>\n",
              "      <td>lemmatize</td>\n",
              "      <td>With_Header</td>\n",
              "    </tr>\n",
              "  </tbody>\n",
              "</table>\n",
              "</div>"
            ],
            "text/plain": [
              "           Model  Accuracy       Type          Data\n",
              "0  SGDClassifier  0.990544   stemming  Only_Content\n",
              "0  SGDClassifier  0.988180  lemmatize  Only_Content\n",
              "0  SGDClassifier  0.985816   stemming   With_Header\n",
              "0  SGDClassifier  0.988180  lemmatize   With_Header"
            ]
          },
          "metadata": {},
          "execution_count": 65
        }
      ]
    },
    {
      "cell_type": "markdown",
      "metadata": {
        "id": "JfvoNuE11Upp"
      },
      "source": [
        "จากผลลัพธ์ที่ได้จะเห็นได้ว่าผลลัพธ์ที่ได้จะมีความใกล้เคียงกัน (จากการลองรันหลายๆรอบ) ซึ่งในการรันรอบนี้จะเห็นได้ว่าการใช้ Data With_Header โดยใช้วิธี lemmatize จะได้ค่า accuracy สูงสุดที่ 99%"
      ]
    },
    {
      "cell_type": "markdown",
      "metadata": {
        "id": "okqj-vumzjWP"
      },
      "source": [
        "## Multinomial Navie Bayes"
      ]
    },
    {
      "cell_type": "markdown",
      "metadata": {
        "id": "ZJTEbcN3zTDe"
      },
      "source": [
        "*Naive Bayes มักจะใช้ในปัญหาการประมวลผลภาษาธรรมชาติ (NLP) Naive Bayes จะทำนายแท็กของข้อความ และคำนวณความน่าจะเป็นของแต่ละแท็กสำหรับข้อความที่กำหนดจากนั้นจึงส่งออกแท็กที่มีค่าสูงสุด*"
      ]
    },
    {
      "cell_type": "code",
      "metadata": {
        "id": "PqDiwG4oq0zY"
      },
      "source": [
        "#ฟังก์ชันสำหรับการ tune model Multinomial Navie Bayes\n",
        "def tunemultinb(X, Y):\n",
        "    from sklearn.naive_bayes import MultinomialNB\n",
        "\n",
        "    model = MultinomialNB()\n",
        "    cv = RepeatedStratifiedKFold(n_splits=10, n_repeats=3, random_state=1)\n",
        "    #Set Param\n",
        "    param = {\n",
        "        \"alpha\": [1.0],\n",
        "        \"fit_prior\": [True, False],\n",
        "    }\n",
        "    #RandomizedSearchCV\n",
        "    search = GridSearchCV(model, param, cv=cv,scoring='accuracy')\n",
        "    #fit\n",
        "    result = search.fit(X, Y)\n",
        "    # summarize result\n",
        "    print('Best Score: %s' % result.best_score_)\n",
        "    print('Best Hyperparameters: %s' % result.best_params_)\n",
        "    return result.best_params_"
      ],
      "execution_count": null,
      "outputs": []
    },
    {
      "cell_type": "code",
      "metadata": {
        "id": "xt9QKAQCsUuK"
      },
      "source": [
        "#ฟังก์ชันสำหรับการสร้าง model Multinomial Navie Bayes\n",
        "def multinbmodel(X_train, Y_train, X_test, Y_test, alpha_, fit_pr):\n",
        "    from sklearn.naive_bayes import MultinomialNB\n",
        "    multinb = MultinomialNB(fit_prior= False, alpha= 1.0)\n",
        "    multinb.fit(X_train, Y_train)\n",
        "    y_pred = multinb.predict(X_test)\n",
        "    print('Accuracy Score(tuned) : %f' %(accuracy_score(Y_test, y_pred)))\n",
        "    return multinb"
      ],
      "execution_count": null,
      "outputs": []
    },
    {
      "cell_type": "markdown",
      "metadata": {
        "id": "dJ2WvSM2chDj"
      },
      "source": [
        "### Test model with Only Content Data"
      ]
    },
    {
      "cell_type": "markdown",
      "metadata": {
        "id": "-QFMbz9OxsS1"
      },
      "source": [
        "*ลองนำโมเดลมาใช้กับ Only Content Data*"
      ]
    },
    {
      "cell_type": "code",
      "metadata": {
        "colab": {
          "base_uri": "https://localhost:8080/"
        },
        "id": "S46wByt2crAw",
        "outputId": "b102806c-6652-4b72-c061-8dac608335c0"
      },
      "source": [
        "#stemming\n",
        "X_train, X_test, Y_train, Y_test = train_test_split(X_stem_content, Y, test_size=.3, random_state=42)\n",
        "\n",
        "result_best = tunemultinb(X_stem_content, Y)\n",
        "model_mulnb = multinbmodel(X_train, Y_train, X_test, Y_test, result_best['alpha'], result_best['fit_prior'])"
      ],
      "execution_count": null,
      "outputs": [
        {
          "output_type": "stream",
          "name": "stdout",
          "text": [
            "Best Score: 0.9801165146909828\n",
            "Best Hyperparameters: {'alpha': 1.0, 'fit_prior': False}\n",
            "Accuracy Score(tuned) : 0.983452\n"
          ]
        }
      ]
    },
    {
      "cell_type": "markdown",
      "metadata": {
        "id": "eNZhm6dvMziq"
      },
      "source": [
        "นำผลลัพธ์ที่ได้เข้าสู่ DataFrame"
      ]
    },
    {
      "cell_type": "code",
      "metadata": {
        "id": "SnwCzx8adrrT"
      },
      "source": [
        "evala = {\n",
        "    'Model': ['MultinomialNB'],\n",
        "    'Accuracy' : accuracy_score(Y_test, model_mulnb.predict(X_test)),\n",
        "    'Type' : 'stemming',\n",
        "    'Data' : 'Only_Content'\n",
        "}\n",
        "eval_multinb = pd.DataFrame(evala)"
      ],
      "execution_count": null,
      "outputs": []
    },
    {
      "cell_type": "code",
      "metadata": {
        "colab": {
          "base_uri": "https://localhost:8080/"
        },
        "id": "Pti5Fv1AduwF",
        "outputId": "17b6f2da-8f71-4a77-c8c5-5d9d367871f9"
      },
      "source": [
        "#lemmatize\n",
        "\n",
        "X_train, X_test, Y_train, Y_test = train_test_split(X_lemma_content, Y, test_size=.3, random_state=42)\n",
        "\n",
        "result_best = tunemultinb(X_lemma_content, Y)\n",
        "model_mulnb = multinbmodel(X_train, Y_train, X_test, Y_test, result_best['alpha'], result_best['fit_prior'])"
      ],
      "execution_count": null,
      "outputs": [
        {
          "output_type": "stream",
          "name": "stdout",
          "text": [
            "Best Score: 0.9803562985477879\n",
            "Best Hyperparameters: {'alpha': 1.0, 'fit_prior': False}\n",
            "Accuracy Score(tuned) : 0.981087\n"
          ]
        }
      ]
    },
    {
      "cell_type": "markdown",
      "metadata": {
        "id": "K92qTZrbM0t_"
      },
      "source": [
        "นำผลลัพธ์ที่ได้เข้าสู่ DataFrame"
      ]
    },
    {
      "cell_type": "code",
      "metadata": {
        "id": "g2O8lP-nd5Xe"
      },
      "source": [
        "evala = {\n",
        "    'Model': ['MultinomialNB'],\n",
        "    'Accuracy' : accuracy_score(Y_test, model_mulnb.predict(X_test)),\n",
        "    'Type' : 'lemmatize',\n",
        "    'Data' : 'Only_Content'\n",
        "}\n",
        "eval2 = pd.DataFrame(evala)\n",
        "eval_multinb = eval_multinb.append(eval2)"
      ],
      "execution_count": null,
      "outputs": []
    },
    {
      "cell_type": "markdown",
      "metadata": {
        "id": "IrGYPsFYcj5v"
      },
      "source": [
        "### Test model with Content plus Header Data"
      ]
    },
    {
      "cell_type": "markdown",
      "metadata": {
        "id": "YXZqsCkKxwMa"
      },
      "source": [
        "*ลองนำโมเดลมาใช้กับ Content with Header Data*"
      ]
    },
    {
      "cell_type": "code",
      "metadata": {
        "colab": {
          "base_uri": "https://localhost:8080/"
        },
        "id": "jHWPk7ZBfHVP",
        "outputId": "5605f9b0-b299-40e6-8aa3-aa5f668825c5"
      },
      "source": [
        "#stemming\n",
        "X_train, X_test, Y_train, Y_test = train_test_split(X_stem_header, Y, test_size=.3, random_state=42)\n",
        "\n",
        "result_best = tunemultinb(X_stem_header, Y)\n",
        "model_mulnb = multinbmodel(X_train, Y_train, X_test, Y_test, result_best['alpha'], result_best['fit_prior'])"
      ],
      "execution_count": null,
      "outputs": [
        {
          "output_type": "stream",
          "name": "stdout",
          "text": [
            "Best Score: 0.9803529213103681\n",
            "Best Hyperparameters: {'alpha': 1.0, 'fit_prior': True}\n",
            "Accuracy Score(tuned) : 0.983452\n"
          ]
        }
      ]
    },
    {
      "cell_type": "markdown",
      "metadata": {
        "id": "Vz_cXpTzM1cx"
      },
      "source": [
        "นำผลลัพธ์ที่ได้เข้าสู่ DataFrame"
      ]
    },
    {
      "cell_type": "code",
      "metadata": {
        "id": "jC0AHf6IfKuy"
      },
      "source": [
        "evala = {\n",
        "    'Model': ['MultinomialNB'],\n",
        "    'Accuracy' : accuracy_score(Y_test, model_mulnb.predict(X_test)),\n",
        "    'Type' : 'stemming',\n",
        "    'Data' : 'With_Header'\n",
        "}\n",
        "eval2 = pd.DataFrame(evala)\n",
        "eval_multinb = eval_multinb.append(eval2)"
      ],
      "execution_count": null,
      "outputs": []
    },
    {
      "cell_type": "code",
      "metadata": {
        "colab": {
          "base_uri": "https://localhost:8080/"
        },
        "id": "5mZIyOVufKTT",
        "outputId": "78ef7106-f706-47ac-aaa1-d1e57e909010"
      },
      "source": [
        "#lemmatize\n",
        "\n",
        "X_train, X_test, Y_train, Y_test = train_test_split(X_lemma_content, Y, test_size=.3, random_state=42)\n",
        "\n",
        "result_best = tunemultinb(X_lemma_content, Y)\n",
        "model_mulnb = multinbmodel(X_train, Y_train, X_test, Y_test, result_best['alpha'], result_best['fit_prior'])"
      ],
      "execution_count": null,
      "outputs": [
        {
          "output_type": "stream",
          "name": "stdout",
          "text": [
            "Best Score: 0.9803562985477879\n",
            "Best Hyperparameters: {'alpha': 1.0, 'fit_prior': False}\n",
            "Accuracy Score(tuned) : 0.981087\n"
          ]
        }
      ]
    },
    {
      "cell_type": "markdown",
      "metadata": {
        "id": "c28irnx4M2HW"
      },
      "source": [
        "นำผลลัพธ์ที่ได้เข้าสู่ DataFrame"
      ]
    },
    {
      "cell_type": "code",
      "metadata": {
        "id": "yt6LCQx9fL5J"
      },
      "source": [
        "evala = {\n",
        "    'Model': ['MultinomialNB'],\n",
        "    'Accuracy' : accuracy_score(Y_test, model_mulnb.predict(X_test)),\n",
        "    'Type' : 'lemmatize',\n",
        "    'Data' : 'With_Header'\n",
        "}\n",
        "eval2 = pd.DataFrame(evala)\n",
        "eval_multinb = eval_multinb.append(eval2)"
      ],
      "execution_count": null,
      "outputs": []
    },
    {
      "cell_type": "markdown",
      "metadata": {
        "id": "asuSBuxofiTS"
      },
      "source": [
        "### Summary"
      ]
    },
    {
      "cell_type": "code",
      "metadata": {
        "colab": {
          "base_uri": "https://localhost:8080/",
          "height": 173
        },
        "id": "x6O3AU46fZqx",
        "outputId": "cd23a0c3-f30c-45cc-bb69-3eb4dffed774"
      },
      "source": [
        "eval_multinb"
      ],
      "execution_count": null,
      "outputs": [
        {
          "output_type": "execute_result",
          "data": {
            "text/html": [
              "<div>\n",
              "<style scoped>\n",
              "    .dataframe tbody tr th:only-of-type {\n",
              "        vertical-align: middle;\n",
              "    }\n",
              "\n",
              "    .dataframe tbody tr th {\n",
              "        vertical-align: top;\n",
              "    }\n",
              "\n",
              "    .dataframe thead th {\n",
              "        text-align: right;\n",
              "    }\n",
              "</style>\n",
              "<table border=\"1\" class=\"dataframe\">\n",
              "  <thead>\n",
              "    <tr style=\"text-align: right;\">\n",
              "      <th></th>\n",
              "      <th>Model</th>\n",
              "      <th>Accuracy</th>\n",
              "      <th>Type</th>\n",
              "      <th>Data</th>\n",
              "    </tr>\n",
              "  </thead>\n",
              "  <tbody>\n",
              "    <tr>\n",
              "      <th>0</th>\n",
              "      <td>MultinomialNB</td>\n",
              "      <td>0.983452</td>\n",
              "      <td>stemming</td>\n",
              "      <td>Only_Content</td>\n",
              "    </tr>\n",
              "    <tr>\n",
              "      <th>0</th>\n",
              "      <td>MultinomialNB</td>\n",
              "      <td>0.981087</td>\n",
              "      <td>lemmatize</td>\n",
              "      <td>Only_Content</td>\n",
              "    </tr>\n",
              "    <tr>\n",
              "      <th>0</th>\n",
              "      <td>MultinomialNB</td>\n",
              "      <td>0.983452</td>\n",
              "      <td>stemming</td>\n",
              "      <td>With_Header</td>\n",
              "    </tr>\n",
              "    <tr>\n",
              "      <th>0</th>\n",
              "      <td>MultinomialNB</td>\n",
              "      <td>0.981087</td>\n",
              "      <td>lemmatize</td>\n",
              "      <td>With_Header</td>\n",
              "    </tr>\n",
              "  </tbody>\n",
              "</table>\n",
              "</div>"
            ],
            "text/plain": [
              "           Model  Accuracy       Type          Data\n",
              "0  MultinomialNB  0.983452   stemming  Only_Content\n",
              "0  MultinomialNB  0.981087  lemmatize  Only_Content\n",
              "0  MultinomialNB  0.983452   stemming   With_Header\n",
              "0  MultinomialNB  0.981087  lemmatize   With_Header"
            ]
          },
          "metadata": {},
          "execution_count": 76
        }
      ]
    },
    {
      "cell_type": "markdown",
      "metadata": {
        "id": "uasa-kmp2e7K"
      },
      "source": [
        "จากผลลัพธ์ที่ได้ จะเห็นได้ว่าถึงแม้จะใช้ข้อมูลต่างกัน ค่าความแม่นยำของทั้ง stemming และ lemmatize ก็จะเท่ากัน"
      ]
    },
    {
      "cell_type": "markdown",
      "metadata": {
        "id": "Ndd4B9A6gjJo"
      },
      "source": [
        "## K-Nearest Neighbors Classifier"
      ]
    },
    {
      "cell_type": "markdown",
      "metadata": {
        "id": "pJVH4iEKzQLX"
      },
      "source": [
        "*ขั้นตอนวิธีการเพื่อนบ้านใกล้ที่สุด (K-Nearest Neighbour Algorithm) เป็นวิธีที่ใช้ในการจัดแบ่งคลาส โดยเทคนิคนี้จะตัดสินใจว่า คลาสใดที่จะแทนเงื่อนไขหรือกรณีใหม่ๆ ได้บ้าง โดยการตรวจสอบจำนวนบางจำนวน ในขั้นตอนวิธีการเพื่อนบ้านใกล้ที่สุด ของกรณีหรือเงื่อนไขที่เหมือนกันหรือใกล้เคียงกันมากที่สุด โดยจะหาผลรวม (Count Up) ของจำนวนเงื่อนไข หรือกรณีต่างๆ สำหรับแต่ละคลาส และกำหนดเงื่อนไขใหม่ๆ ให้คลาสที่เหมือนกันกับคลาสที่ใกล้เคียงกันมากที่สุด*"
      ]
    },
    {
      "cell_type": "code",
      "metadata": {
        "id": "_EHbIRNcgqbn"
      },
      "source": [
        "#ฟังก์ชันสำหรับการ tune model K-Nearest Neighbors Classifier\n",
        "def tuneKNB(X, Y):\n",
        "    from sklearn.neighbors import KNeighborsClassifier\n",
        "    #Set Param\n",
        "    param = {\n",
        "        'n_neighbors':[i for i in range(2, 11)],\n",
        "        'weights' : ['uniform', 'distance'],\n",
        "        'leaf_size': [ i for i in range(1, 101)],\n",
        "        'p':[1,2]\n",
        "    }\n",
        "\n",
        "    model = KNeighborsClassifier()\n",
        "    #RandomizedSearchCV\n",
        "    search = RandomizedSearchCV(model, param, cv=5, scoring='accuracy', n_jobs=-1)\n",
        "\n",
        "    result = search.fit(X, Y)\n",
        "    #summarize result\n",
        "    print('Best Score: %s' % result.best_score_)\n",
        "    print('Best Hyperparameters: %s' % result.best_params_)\n",
        "    return result.best_params_"
      ],
      "execution_count": null,
      "outputs": []
    },
    {
      "cell_type": "code",
      "metadata": {
        "id": "GprzFlp0QoPt"
      },
      "source": [
        "#ฟังก์ชันสำหรับการสร้าง model K-Nearest Neighbors Classifier\n",
        "def knbmodel(X_train, Y_train, X_test, Y_test, neighbor, weight, leafsize, p):\n",
        "    from sklearn.neighbors import KNeighborsClassifier\n",
        "    knb = KNeighborsClassifier(n_neighbors=neighbor, weights=weight, leaf_size=leafsize, p=p)\n",
        "    knb.fit(X_train, Y_train)\n",
        "    y_pred = knb.predict(X_test)\n",
        "    print('Accuracy Score(tuned) : %f' %(accuracy_score(Y_test, y_pred)))\n",
        "    return knb"
      ],
      "execution_count": null,
      "outputs": []
    },
    {
      "cell_type": "markdown",
      "metadata": {
        "id": "38i4ZzlMi87h"
      },
      "source": [
        "### Test model with Only Content Data"
      ]
    },
    {
      "cell_type": "markdown",
      "metadata": {
        "id": "nFEx8aD4xtBv"
      },
      "source": [
        "*ลองนำโมเดลมาใช้กับ Only Content Data*"
      ]
    },
    {
      "cell_type": "code",
      "metadata": {
        "colab": {
          "base_uri": "https://localhost:8080/"
        },
        "id": "kcl26OMFjI8Y",
        "outputId": "0b685172-5671-4753-e1b9-afe9ca45276e"
      },
      "source": [
        "#stemming\n",
        "X_train, X_test, Y_train, Y_test = train_test_split(X_stem_content, Y, test_size=.3, random_state=42)\n",
        "\n",
        "result_best = tuneKNB(X_stem_content, Y)\n",
        "model_knb = knbmodel(X_train, Y_train, X_test, Y_test, result_best['n_neighbors'], result_best['weights'], result_best['leaf_size'], result_best['p'])"
      ],
      "execution_count": null,
      "outputs": [
        {
          "output_type": "stream",
          "name": "stdout",
          "text": [
            "Best Score: 0.9666237601272052\n",
            "Best Hyperparameters: {'weights': 'uniform', 'p': 2, 'n_neighbors': 5, 'leaf_size': 23}\n",
            "Accuracy Score(tuned) : 0.962175\n"
          ]
        }
      ]
    },
    {
      "cell_type": "markdown",
      "metadata": {
        "id": "WPbV2LMWM3pP"
      },
      "source": [
        "นำผลลัพธ์ที่ได้เข้าสู่ DataFrame"
      ]
    },
    {
      "cell_type": "code",
      "metadata": {
        "id": "fEHLyfsCjLH4"
      },
      "source": [
        "evala = {\n",
        "    'Model': ['K-Nearest Negihbors'],\n",
        "    'Accuracy' : accuracy_score(Y_test, model_knb.predict(X_test)),\n",
        "    'Type' : 'stemming',\n",
        "    'Data' : 'Only_Content'\n",
        "}\n",
        "eval_knb = pd.DataFrame(evala)"
      ],
      "execution_count": null,
      "outputs": []
    },
    {
      "cell_type": "code",
      "metadata": {
        "colab": {
          "base_uri": "https://localhost:8080/"
        },
        "id": "9GplPI8gjLbl",
        "outputId": "0edc6e09-d8cc-4d9d-88a0-43535ddcfca3"
      },
      "source": [
        "#lemmatize\n",
        "X_train, X_test, Y_train, Y_test = train_test_split(X_lemma_content, Y, test_size=.3, random_state=42)\n",
        "\n",
        "result_best = tuneKNB(X_lemma_content, Y)\n",
        "model_knb = knbmodel(X_train, Y_train, X_test, Y_test, result_best['n_neighbors'], result_best['weights'], result_best['leaf_size'], result_best['p'])"
      ],
      "execution_count": null,
      "outputs": [
        {
          "output_type": "stream",
          "name": "stdout",
          "text": [
            "Best Score: 0.9616390298074254\n",
            "Best Hyperparameters: {'weights': 'distance', 'p': 2, 'n_neighbors': 10, 'leaf_size': 77}\n",
            "Accuracy Score(tuned) : 0.964539\n"
          ]
        }
      ]
    },
    {
      "cell_type": "markdown",
      "metadata": {
        "id": "eyug3tUxM4B2"
      },
      "source": [
        "นำผลลัพธ์ที่ได้เข้าสู่ DataFrame"
      ]
    },
    {
      "cell_type": "code",
      "metadata": {
        "id": "D01o3wQljNpj"
      },
      "source": [
        "evala = {\n",
        "    'Model': ['K-Nearest Negihbors'],\n",
        "    'Accuracy' : accuracy_score(Y_test, model_knb.predict(X_test)),\n",
        "    'Type' : 'lemmatize',\n",
        "    'Data' : 'Only_Content'\n",
        "}\n",
        "eval2 = pd.DataFrame(evala)\n",
        "eval_knb = eval_knb.append(eval2)"
      ],
      "execution_count": null,
      "outputs": []
    },
    {
      "cell_type": "markdown",
      "metadata": {
        "id": "IC2TMsLzi_5t"
      },
      "source": [
        "### Test model with Content plus Header Data"
      ]
    },
    {
      "cell_type": "markdown",
      "metadata": {
        "id": "xoxabhNwxwxR"
      },
      "source": [
        "*ลองนำโมเดลมาใช้กับ Content with Header Data*"
      ]
    },
    {
      "cell_type": "code",
      "metadata": {
        "colab": {
          "base_uri": "https://localhost:8080/"
        },
        "id": "D0aUu6uQknNw",
        "outputId": "b7e4c383-2e86-469a-bbcd-4e95f8f71ba0"
      },
      "source": [
        "#stemming\n",
        "X_train, X_test, Y_train, Y_test = train_test_split(X_stem_header, Y, test_size=.3, random_state=42)\n",
        "\n",
        "result_best = tuneKNB(X_stem_header, Y)\n",
        "model_knb = knbmodel(X_train, Y_train, X_test, Y_test, result_best['n_neighbors'], result_best['weights'], result_best['leaf_size'], result_best['p'])"
      ],
      "execution_count": null,
      "outputs": [
        {
          "output_type": "stream",
          "name": "stdout",
          "text": [
            "Best Score: 0.9659094924408771\n",
            "Best Hyperparameters: {'weights': 'distance', 'p': 2, 'n_neighbors': 9, 'leaf_size': 45}\n",
            "Accuracy Score(tuned) : 0.964539\n"
          ]
        }
      ]
    },
    {
      "cell_type": "markdown",
      "metadata": {
        "id": "4JV13wmrM4zX"
      },
      "source": [
        "นำผลลัพธ์ที่ได้เข้าสู่ DataFrame"
      ]
    },
    {
      "cell_type": "code",
      "metadata": {
        "id": "Bmyba_8skpur"
      },
      "source": [
        "evala = {\n",
        "    'Model': ['K-Nearest Negihbors'],\n",
        "    'Accuracy' : accuracy_score(Y_test, model_knb.predict(X_test)),\n",
        "    'Type' : 'stemming',\n",
        "    'Data' : 'With_header'\n",
        "}\n",
        "eval2 = pd.DataFrame(evala)\n",
        "eval_knb = eval_knb.append(eval2)"
      ],
      "execution_count": null,
      "outputs": []
    },
    {
      "cell_type": "code",
      "metadata": {
        "colab": {
          "base_uri": "https://localhost:8080/"
        },
        "id": "SKuySGQBkrWy",
        "outputId": "8ede71cd-fc2e-413c-8ae0-7bd8f5ec6b58"
      },
      "source": [
        "#lemmatize\n",
        "X_train, X_test, Y_train, Y_test = train_test_split(X_lemma_content, Y, test_size=.3, random_state=42)\n",
        "\n",
        "result_best = tuneKNB(X_lemma_content, Y)\n",
        "model_knb = knbmodel(X_train, Y_train, X_test, Y_test, result_best['n_neighbors'], result_best['weights'], result_best['leaf_size'], result_best['p'])"
      ],
      "execution_count": null,
      "outputs": [
        {
          "output_type": "stream",
          "name": "stdout",
          "text": [
            "Best Score: 0.9623583453219252\n",
            "Best Hyperparameters: {'weights': 'distance', 'p': 2, 'n_neighbors': 5, 'leaf_size': 36}\n",
            "Accuracy Score(tuned) : 0.957447\n"
          ]
        }
      ]
    },
    {
      "cell_type": "markdown",
      "metadata": {
        "id": "C7RHC9YbM53Z"
      },
      "source": [
        "นำผลลัพธ์ที่ได้เข้าสู่ DataFrame"
      ]
    },
    {
      "cell_type": "code",
      "metadata": {
        "id": "V4goZR3FktBo"
      },
      "source": [
        "evala = {\n",
        "    'Model': ['K-Nearest Negihbors'],\n",
        "    'Accuracy' : accuracy_score(Y_test, model_knb.predict(X_test)),\n",
        "    'Type' : 'lemmatize',\n",
        "    'Data' : 'With_header'\n",
        "}\n",
        "eval2 = pd.DataFrame(evala)\n",
        "eval_knb = eval_knb.append(eval2)"
      ],
      "execution_count": null,
      "outputs": []
    },
    {
      "cell_type": "markdown",
      "metadata": {
        "id": "xGRZERLpk9qy"
      },
      "source": [
        "### Summary"
      ]
    },
    {
      "cell_type": "code",
      "metadata": {
        "colab": {
          "base_uri": "https://localhost:8080/",
          "height": 173
        },
        "id": "z-crzjZelCYL",
        "outputId": "3bf80242-2623-4c2e-fe8a-aaf8f0283168"
      },
      "source": [
        "eval_knb"
      ],
      "execution_count": null,
      "outputs": [
        {
          "output_type": "execute_result",
          "data": {
            "text/html": [
              "<div>\n",
              "<style scoped>\n",
              "    .dataframe tbody tr th:only-of-type {\n",
              "        vertical-align: middle;\n",
              "    }\n",
              "\n",
              "    .dataframe tbody tr th {\n",
              "        vertical-align: top;\n",
              "    }\n",
              "\n",
              "    .dataframe thead th {\n",
              "        text-align: right;\n",
              "    }\n",
              "</style>\n",
              "<table border=\"1\" class=\"dataframe\">\n",
              "  <thead>\n",
              "    <tr style=\"text-align: right;\">\n",
              "      <th></th>\n",
              "      <th>Model</th>\n",
              "      <th>Accuracy</th>\n",
              "      <th>Type</th>\n",
              "      <th>Data</th>\n",
              "    </tr>\n",
              "  </thead>\n",
              "  <tbody>\n",
              "    <tr>\n",
              "      <th>0</th>\n",
              "      <td>K-Nearest Negihbors</td>\n",
              "      <td>0.962175</td>\n",
              "      <td>stemming</td>\n",
              "      <td>Only_Content</td>\n",
              "    </tr>\n",
              "    <tr>\n",
              "      <th>0</th>\n",
              "      <td>K-Nearest Negihbors</td>\n",
              "      <td>0.964539</td>\n",
              "      <td>lemmatize</td>\n",
              "      <td>Only_Content</td>\n",
              "    </tr>\n",
              "    <tr>\n",
              "      <th>0</th>\n",
              "      <td>K-Nearest Negihbors</td>\n",
              "      <td>0.964539</td>\n",
              "      <td>stemming</td>\n",
              "      <td>With_header</td>\n",
              "    </tr>\n",
              "    <tr>\n",
              "      <th>0</th>\n",
              "      <td>K-Nearest Negihbors</td>\n",
              "      <td>0.957447</td>\n",
              "      <td>lemmatize</td>\n",
              "      <td>With_header</td>\n",
              "    </tr>\n",
              "  </tbody>\n",
              "</table>\n",
              "</div>"
            ],
            "text/plain": [
              "                 Model  Accuracy       Type          Data\n",
              "0  K-Nearest Negihbors  0.962175   stemming  Only_Content\n",
              "0  K-Nearest Negihbors  0.964539  lemmatize  Only_Content\n",
              "0  K-Nearest Negihbors  0.964539   stemming   With_header\n",
              "0  K-Nearest Negihbors  0.957447  lemmatize   With_header"
            ]
          },
          "metadata": {},
          "execution_count": 87
        }
      ]
    },
    {
      "cell_type": "markdown",
      "metadata": {
        "id": "Dnw_j10p3ZMR"
      },
      "source": [
        "จากผลลัพธ์ที่ได้ ผลลัพธ์ที่ได้จะมีค่าใกล้เคียงกัน"
      ]
    },
    {
      "cell_type": "markdown",
      "metadata": {
        "id": "XyHipmfmfvq5"
      },
      "source": [
        "## Support Vector Classifier"
      ]
    },
    {
      "cell_type": "markdown",
      "metadata": {
        "id": "94YZKVU1gLVR"
      },
      "source": [
        "*SVM เป็นโมเดลที่มีความยึดหยุ่นและสามารถทำงานได้ดี โดยเฉพาะอย่างยิ่งเมื่อข้อมูลมีความซับซ้อน (หลาย Feature) แต่จำนวนตัวอย่างไม่มาก (ต่ำกว่าแสนรายการ) SVC จะเป็นการจัดกลุ่มข้อมูล Classification โดยการแบ่ง Class ของข้อมูลออกจากกัน ซึ่งสามารถใช้การแบ่งด้วยสมการเชิงเส้นได้ทั้ง Linear และ Non Linear ใช้สำหรับแก้ปัญหาการจัดกลุ่มข้อมูล Classification และการวิเคราะห์การถดถอย Regression ซึ่งจะมีความคล้ายคลึงกับ Logistic Regression*"
      ]
    },
    {
      "cell_type": "code",
      "metadata": {
        "id": "MSvJx_tjqH9N"
      },
      "source": [
        "#ฟังก์ชันสำหรับการ tune model Support Vector Classifier\n",
        "def tunespv(X, Y):\n",
        "    from sklearn.svm import SVC\n",
        "\n",
        "    model = SVC()\n",
        "\n",
        "    #Set Param\n",
        "    param = {\n",
        "        \"C\": [1.],\n",
        "        \"kernel\": [\"linear\", \"poly\", \"rbf\", \"sigmoid\"],\n",
        "        \"gamma\": [\"scale\", \"auto\"],\n",
        "        \"decision_function_shape\" : ['ovo', 'ovr']\n",
        "    }\n",
        "    #RandomizedSearchCV\n",
        "    search = RandomizedSearchCV(model, param, cv=5, scoring='accuracy')\n",
        "    #fit\n",
        "    result = search.fit(X, Y)\n",
        "    # summarize result\n",
        "    print('Best Score: %s' % result.best_score_)\n",
        "    print('Best Hyperparameters: %s' % result.best_params_)\n",
        "    return result.best_params_"
      ],
      "execution_count": null,
      "outputs": []
    },
    {
      "cell_type": "code",
      "metadata": {
        "id": "Dob1I9LrBYcy"
      },
      "source": [
        "#ฟังก์ชันสำหรับการสร้าง model Support Vector Classifier\n",
        "def svcmodel(X_train, Y_train, X_test, Y_test, C, kernel, gamma, dfshape):\n",
        "    from sklearn import svm\n",
        "    svc = svm.SVC(kernel=kernel, gamma=gamma, C=C, decision_function_shape=dfshape)\n",
        "    svc.fit(X_train, Y_train)\n",
        "    y_pred = svc.predict(X_test)\n",
        "    print('Accuracy Score(tuned) : %f' %(accuracy_score(Y_test, y_pred)))\n",
        "    return svc"
      ],
      "execution_count": null,
      "outputs": []
    },
    {
      "cell_type": "markdown",
      "metadata": {
        "id": "VEKPrSuAne7B"
      },
      "source": [
        "### Test model with Only Content Data"
      ]
    },
    {
      "cell_type": "markdown",
      "metadata": {
        "id": "kthw6AHsxuBa"
      },
      "source": [
        "*ลองนำโมเดลมาใช้กับ Only Content Data*"
      ]
    },
    {
      "cell_type": "code",
      "metadata": {
        "colab": {
          "base_uri": "https://localhost:8080/"
        },
        "id": "rLHrcvIqoBfV",
        "outputId": "b60eb99b-9a63-4042-ecbb-a4b29a837864"
      },
      "source": [
        "#stemming\n",
        "X_train, X_test, Y_train, Y_test = train_test_split(X_stem_content, Y, test_size=.3, random_state=42)\n",
        "\n",
        "result_best = tunespv(X_stem_content, Y)\n",
        "svc_model = svcmodel(X_train, Y_train, X_test, Y_test, result_best['C'], result_best['kernel'], result_best['gamma'], result_best['decision_function_shape'])"
      ],
      "execution_count": null,
      "outputs": [
        {
          "output_type": "stream",
          "name": "stdout",
          "text": [
            "Best Score: 0.9843694000656218\n",
            "Best Hyperparameters: {'kernel': 'rbf', 'gamma': 'scale', 'decision_function_shape': 'ovr', 'C': 1.0}\n",
            "Accuracy Score(tuned) : 0.983452\n"
          ]
        }
      ]
    },
    {
      "cell_type": "markdown",
      "metadata": {
        "id": "qWGjRWxcM8HR"
      },
      "source": [
        "นำผลลัพธ์ที่ได้เข้าสู่ DataFrame"
      ]
    },
    {
      "cell_type": "code",
      "metadata": {
        "id": "6BviDGQmoJyy"
      },
      "source": [
        "evala = {\n",
        "    'Model': ['Support Vector'],\n",
        "    'Accuracy' : accuracy_score(Y_test, svc_model.predict(X_test)),\n",
        "    'Type' : 'stemming',\n",
        "    'Data' : 'Only_Content'\n",
        "}\n",
        "eval_spv = pd.DataFrame(evala)"
      ],
      "execution_count": null,
      "outputs": []
    },
    {
      "cell_type": "code",
      "metadata": {
        "colab": {
          "base_uri": "https://localhost:8080/"
        },
        "id": "_msnCZUsoNNe",
        "outputId": "1d1090f0-1523-4f8a-84d4-79d21e8ae72c"
      },
      "source": [
        "#lemmatize\n",
        "X_train, X_test, Y_train, Y_test = train_test_split(X_lemma_content, Y, test_size=.3, random_state=42)\n",
        "\n",
        "result_best = tunespv(X_lemma_content, Y)\n",
        "svc_model = svcmodel(X_train, Y_train, X_test, Y_test, result_best['C'], result_best['kernel'], result_best['gamma'], result_best['decision_function_shape'])"
      ],
      "execution_count": null,
      "outputs": [
        {
          "output_type": "stream",
          "name": "stdout",
          "text": [
            "Best Score: 0.9843744478937936\n",
            "Best Hyperparameters: {'kernel': 'linear', 'gamma': 'auto', 'decision_function_shape': 'ovr', 'C': 1.0}\n",
            "Accuracy Score(tuned) : 0.990544\n"
          ]
        }
      ]
    },
    {
      "cell_type": "markdown",
      "metadata": {
        "id": "ufPzy7rYM89_"
      },
      "source": [
        "นำผลลัพธ์ที่ได้เข้าสู่ DataFrame"
      ]
    },
    {
      "cell_type": "code",
      "metadata": {
        "id": "pVnMBgDIoOT3"
      },
      "source": [
        "evala = {\n",
        "    'Model': ['Support Vector'],\n",
        "    'Accuracy' : accuracy_score(Y_test, svc_model.predict(X_test)),\n",
        "    'Type' : 'lemmatize',\n",
        "    'Data' : 'Only_Content'\n",
        "}\n",
        "eval2 = pd.DataFrame(evala)\n",
        "eval_spv = eval_spv.append(eval2)"
      ],
      "execution_count": null,
      "outputs": []
    },
    {
      "cell_type": "markdown",
      "metadata": {
        "id": "NeMFH5I_nim2"
      },
      "source": [
        "### Test model with Content plus Header Data"
      ]
    },
    {
      "cell_type": "markdown",
      "metadata": {
        "id": "Va_QPxJwxxly"
      },
      "source": [
        "*ลองนำโมเดลมาใช้กับ Content with Header Data*"
      ]
    },
    {
      "cell_type": "code",
      "metadata": {
        "colab": {
          "base_uri": "https://localhost:8080/"
        },
        "id": "-iMnS_fVoB9D",
        "outputId": "bfc089c1-3192-4b09-de1b-2a47e9cbaec8"
      },
      "source": [
        "#stemming\n",
        "X_train, X_test, Y_train, Y_test = train_test_split(X_stem_header, Y, test_size=.3, random_state=42)\n",
        "\n",
        "result_best = tunespv(X_stem_header, Y)\n",
        "svc_model = svcmodel(X_train, Y_train, X_test, Y_test, result_best['C'], result_best['kernel'], result_best['gamma'], result_best['decision_function_shape'])"
      ],
      "execution_count": null,
      "outputs": [
        {
          "output_type": "stream",
          "name": "stdout",
          "text": [
            "Best Score: 0.9850836677519496\n",
            "Best Hyperparameters: {'kernel': 'linear', 'gamma': 'auto', 'decision_function_shape': 'ovr', 'C': 1.0}\n",
            "Accuracy Score(tuned) : 0.988180\n"
          ]
        }
      ]
    },
    {
      "cell_type": "markdown",
      "metadata": {
        "id": "MkNpizc_M9um"
      },
      "source": [
        "นำผลลัพธ์ที่ได้เข้าสู่ DataFrame"
      ]
    },
    {
      "cell_type": "code",
      "metadata": {
        "id": "k7pzrYn5q2RR"
      },
      "source": [
        "evala = {\n",
        "    'Model': ['Support Vector'],\n",
        "    'Accuracy' : accuracy_score(Y_test, svc_model.predict(X_test)),\n",
        "    'Type' : 'stemming',\n",
        "    'Data' : 'With_Header'\n",
        "}\n",
        "eval2 = pd.DataFrame(evala)\n",
        "eval_spv = eval_spv.append(eval2)"
      ],
      "execution_count": null,
      "outputs": []
    },
    {
      "cell_type": "code",
      "metadata": {
        "colab": {
          "base_uri": "https://localhost:8080/"
        },
        "id": "6IHSyuZUq2_3",
        "outputId": "6b09a704-0e11-479b-e2a5-cb1800a6861e"
      },
      "source": [
        "#lemmatize\n",
        "X_train, X_test, Y_train, Y_test = train_test_split(X_lemma_header, Y, test_size=.3, random_state=42)\n",
        "\n",
        "result_best = tunespv(X_lemma_header, Y)\n",
        "svc_model = svcmodel(X_train, Y_train, X_test, Y_test, result_best['C'], result_best['kernel'], result_best['gamma'], result_best['decision_function_shape'])"
      ],
      "execution_count": null,
      "outputs": [
        {
          "output_type": "stream",
          "name": "stdout",
          "text": [
            "Best Score: 0.9836627041215517\n",
            "Best Hyperparameters: {'kernel': 'linear', 'gamma': 'scale', 'decision_function_shape': 'ovo', 'C': 1.0}\n",
            "Accuracy Score(tuned) : 0.990544\n"
          ]
        }
      ]
    },
    {
      "cell_type": "markdown",
      "metadata": {
        "id": "p-gZsuHlM-JE"
      },
      "source": [
        "นำผลลัพธ์ที่ได้เข้าสู่ DataFrame"
      ]
    },
    {
      "cell_type": "code",
      "metadata": {
        "id": "06aL07V6q4WS"
      },
      "source": [
        "evala = {\n",
        "    'Model': ['Support Vector'],\n",
        "    'Accuracy' : accuracy_score(Y_test, svc_model.predict(X_test)),\n",
        "    'Type' : 'lemmatize',\n",
        "    'Data' : 'With_Header'\n",
        "}\n",
        "eval2 = pd.DataFrame(evala)\n",
        "eval_spv = eval_spv.append(eval2)"
      ],
      "execution_count": null,
      "outputs": []
    },
    {
      "cell_type": "markdown",
      "metadata": {
        "id": "P9-pf08tn4ML"
      },
      "source": [
        "### Summary"
      ]
    },
    {
      "cell_type": "code",
      "metadata": {
        "colab": {
          "base_uri": "https://localhost:8080/",
          "height": 173
        },
        "id": "LNxNGb6WoChH",
        "outputId": "8ce99f21-8bab-42c4-936c-3b54a17d13ab"
      },
      "source": [
        "eval_spv"
      ],
      "execution_count": null,
      "outputs": [
        {
          "output_type": "execute_result",
          "data": {
            "text/html": [
              "<div>\n",
              "<style scoped>\n",
              "    .dataframe tbody tr th:only-of-type {\n",
              "        vertical-align: middle;\n",
              "    }\n",
              "\n",
              "    .dataframe tbody tr th {\n",
              "        vertical-align: top;\n",
              "    }\n",
              "\n",
              "    .dataframe thead th {\n",
              "        text-align: right;\n",
              "    }\n",
              "</style>\n",
              "<table border=\"1\" class=\"dataframe\">\n",
              "  <thead>\n",
              "    <tr style=\"text-align: right;\">\n",
              "      <th></th>\n",
              "      <th>Model</th>\n",
              "      <th>Accuracy</th>\n",
              "      <th>Type</th>\n",
              "      <th>Data</th>\n",
              "    </tr>\n",
              "  </thead>\n",
              "  <tbody>\n",
              "    <tr>\n",
              "      <th>0</th>\n",
              "      <td>Support Vector</td>\n",
              "      <td>0.983452</td>\n",
              "      <td>stemming</td>\n",
              "      <td>Only_Content</td>\n",
              "    </tr>\n",
              "    <tr>\n",
              "      <th>0</th>\n",
              "      <td>Support Vector</td>\n",
              "      <td>0.990544</td>\n",
              "      <td>lemmatize</td>\n",
              "      <td>Only_Content</td>\n",
              "    </tr>\n",
              "    <tr>\n",
              "      <th>0</th>\n",
              "      <td>Support Vector</td>\n",
              "      <td>0.988180</td>\n",
              "      <td>stemming</td>\n",
              "      <td>With_Header</td>\n",
              "    </tr>\n",
              "    <tr>\n",
              "      <th>0</th>\n",
              "      <td>Support Vector</td>\n",
              "      <td>0.990544</td>\n",
              "      <td>lemmatize</td>\n",
              "      <td>With_Header</td>\n",
              "    </tr>\n",
              "  </tbody>\n",
              "</table>\n",
              "</div>"
            ],
            "text/plain": [
              "            Model  Accuracy       Type          Data\n",
              "0  Support Vector  0.983452   stemming  Only_Content\n",
              "0  Support Vector  0.990544  lemmatize  Only_Content\n",
              "0  Support Vector  0.988180   stemming   With_Header\n",
              "0  Support Vector  0.990544  lemmatize   With_Header"
            ]
          },
          "metadata": {},
          "execution_count": 98
        }
      ]
    },
    {
      "cell_type": "markdown",
      "metadata": {
        "id": "mXaAJCt1vboX"
      },
      "source": [
        "จากผลสรุปตรงนี้จะเห็นได้ว่าการใช้โมเดล Support Vector Classifier จะได้ผลลัพธ์ที่ใกล้เคียงกันกับทั้ง 2 รูปแบบข้อมูลที่ใช้ แต่ในส่วนของวิธีการ Lemmatize จะได้ผลลัพธ์ความแม่นยำที่ดีกว่าที่ 99%"
      ]
    },
    {
      "cell_type": "markdown",
      "metadata": {
        "id": "bDqAT2Ldn8JB"
      },
      "source": [
        "## Summary"
      ]
    },
    {
      "cell_type": "markdown",
      "metadata": {
        "id": "-DeVgTYO32fT"
      },
      "source": [
        "***สรุปผล***"
      ]
    },
    {
      "cell_type": "markdown",
      "metadata": {
        "id": "de52MewdNANW"
      },
      "source": [
        "นำ DataFrame ที่รวมผลลัพธ์ของทุกโมเดลให้อยู่ใน df เดียวกัน"
      ]
    },
    {
      "cell_type": "code",
      "metadata": {
        "id": "AhVy6OZ7rgM1"
      },
      "source": [
        "all_ = pd.concat([eval_logis, eval_sgd, eval_multinb, eval_knb, eval_spv], ignore_index=True)"
      ],
      "execution_count": null,
      "outputs": []
    },
    {
      "cell_type": "code",
      "metadata": {
        "colab": {
          "base_uri": "https://localhost:8080/",
          "height": 669
        },
        "id": "cA2iczP2r2Zn",
        "outputId": "813d978b-52e6-490a-ed31-8165eb31c132"
      },
      "source": [
        "all_ #เก็บผลลัพธ์ที่ได้จากกระบวนการทั้งหมด"
      ],
      "execution_count": null,
      "outputs": [
        {
          "output_type": "execute_result",
          "data": {
            "text/html": [
              "<div>\n",
              "<style scoped>\n",
              "    .dataframe tbody tr th:only-of-type {\n",
              "        vertical-align: middle;\n",
              "    }\n",
              "\n",
              "    .dataframe tbody tr th {\n",
              "        vertical-align: top;\n",
              "    }\n",
              "\n",
              "    .dataframe thead th {\n",
              "        text-align: right;\n",
              "    }\n",
              "</style>\n",
              "<table border=\"1\" class=\"dataframe\">\n",
              "  <thead>\n",
              "    <tr style=\"text-align: right;\">\n",
              "      <th></th>\n",
              "      <th>Model</th>\n",
              "      <th>Accuracy</th>\n",
              "      <th>Type</th>\n",
              "      <th>Data</th>\n",
              "    </tr>\n",
              "  </thead>\n",
              "  <tbody>\n",
              "    <tr>\n",
              "      <th>0</th>\n",
              "      <td>Logistic Regression</td>\n",
              "      <td>0.990544</td>\n",
              "      <td>stemming</td>\n",
              "      <td>Only_Content</td>\n",
              "    </tr>\n",
              "    <tr>\n",
              "      <th>1</th>\n",
              "      <td>Logistic Regression</td>\n",
              "      <td>0.990544</td>\n",
              "      <td>lemmatize</td>\n",
              "      <td>Only_Content</td>\n",
              "    </tr>\n",
              "    <tr>\n",
              "      <th>2</th>\n",
              "      <td>Logistic Regression</td>\n",
              "      <td>0.985816</td>\n",
              "      <td>stemming</td>\n",
              "      <td>With_Header</td>\n",
              "    </tr>\n",
              "    <tr>\n",
              "      <th>3</th>\n",
              "      <td>Logistic Regression</td>\n",
              "      <td>0.990544</td>\n",
              "      <td>lemmatize</td>\n",
              "      <td>With_Header</td>\n",
              "    </tr>\n",
              "    <tr>\n",
              "      <th>4</th>\n",
              "      <td>SGDClassifier</td>\n",
              "      <td>0.990544</td>\n",
              "      <td>stemming</td>\n",
              "      <td>Only_Content</td>\n",
              "    </tr>\n",
              "    <tr>\n",
              "      <th>5</th>\n",
              "      <td>SGDClassifier</td>\n",
              "      <td>0.988180</td>\n",
              "      <td>lemmatize</td>\n",
              "      <td>Only_Content</td>\n",
              "    </tr>\n",
              "    <tr>\n",
              "      <th>6</th>\n",
              "      <td>SGDClassifier</td>\n",
              "      <td>0.985816</td>\n",
              "      <td>stemming</td>\n",
              "      <td>With_Header</td>\n",
              "    </tr>\n",
              "    <tr>\n",
              "      <th>7</th>\n",
              "      <td>SGDClassifier</td>\n",
              "      <td>0.988180</td>\n",
              "      <td>lemmatize</td>\n",
              "      <td>With_Header</td>\n",
              "    </tr>\n",
              "    <tr>\n",
              "      <th>8</th>\n",
              "      <td>MultinomialNB</td>\n",
              "      <td>0.983452</td>\n",
              "      <td>stemming</td>\n",
              "      <td>Only_Content</td>\n",
              "    </tr>\n",
              "    <tr>\n",
              "      <th>9</th>\n",
              "      <td>MultinomialNB</td>\n",
              "      <td>0.981087</td>\n",
              "      <td>lemmatize</td>\n",
              "      <td>Only_Content</td>\n",
              "    </tr>\n",
              "    <tr>\n",
              "      <th>10</th>\n",
              "      <td>MultinomialNB</td>\n",
              "      <td>0.983452</td>\n",
              "      <td>stemming</td>\n",
              "      <td>With_Header</td>\n",
              "    </tr>\n",
              "    <tr>\n",
              "      <th>11</th>\n",
              "      <td>MultinomialNB</td>\n",
              "      <td>0.981087</td>\n",
              "      <td>lemmatize</td>\n",
              "      <td>With_Header</td>\n",
              "    </tr>\n",
              "    <tr>\n",
              "      <th>12</th>\n",
              "      <td>K-Nearest Negihbors</td>\n",
              "      <td>0.962175</td>\n",
              "      <td>stemming</td>\n",
              "      <td>Only_Content</td>\n",
              "    </tr>\n",
              "    <tr>\n",
              "      <th>13</th>\n",
              "      <td>K-Nearest Negihbors</td>\n",
              "      <td>0.964539</td>\n",
              "      <td>lemmatize</td>\n",
              "      <td>Only_Content</td>\n",
              "    </tr>\n",
              "    <tr>\n",
              "      <th>14</th>\n",
              "      <td>K-Nearest Negihbors</td>\n",
              "      <td>0.964539</td>\n",
              "      <td>stemming</td>\n",
              "      <td>With_header</td>\n",
              "    </tr>\n",
              "    <tr>\n",
              "      <th>15</th>\n",
              "      <td>K-Nearest Negihbors</td>\n",
              "      <td>0.957447</td>\n",
              "      <td>lemmatize</td>\n",
              "      <td>With_header</td>\n",
              "    </tr>\n",
              "    <tr>\n",
              "      <th>16</th>\n",
              "      <td>Support Vector</td>\n",
              "      <td>0.983452</td>\n",
              "      <td>stemming</td>\n",
              "      <td>Only_Content</td>\n",
              "    </tr>\n",
              "    <tr>\n",
              "      <th>17</th>\n",
              "      <td>Support Vector</td>\n",
              "      <td>0.990544</td>\n",
              "      <td>lemmatize</td>\n",
              "      <td>Only_Content</td>\n",
              "    </tr>\n",
              "    <tr>\n",
              "      <th>18</th>\n",
              "      <td>Support Vector</td>\n",
              "      <td>0.988180</td>\n",
              "      <td>stemming</td>\n",
              "      <td>With_Header</td>\n",
              "    </tr>\n",
              "    <tr>\n",
              "      <th>19</th>\n",
              "      <td>Support Vector</td>\n",
              "      <td>0.990544</td>\n",
              "      <td>lemmatize</td>\n",
              "      <td>With_Header</td>\n",
              "    </tr>\n",
              "  </tbody>\n",
              "</table>\n",
              "</div>"
            ],
            "text/plain": [
              "                  Model  Accuracy       Type          Data\n",
              "0   Logistic Regression  0.990544   stemming  Only_Content\n",
              "1   Logistic Regression  0.990544  lemmatize  Only_Content\n",
              "2   Logistic Regression  0.985816   stemming   With_Header\n",
              "3   Logistic Regression  0.990544  lemmatize   With_Header\n",
              "4         SGDClassifier  0.990544   stemming  Only_Content\n",
              "5         SGDClassifier  0.988180  lemmatize  Only_Content\n",
              "6         SGDClassifier  0.985816   stemming   With_Header\n",
              "7         SGDClassifier  0.988180  lemmatize   With_Header\n",
              "8         MultinomialNB  0.983452   stemming  Only_Content\n",
              "9         MultinomialNB  0.981087  lemmatize  Only_Content\n",
              "10        MultinomialNB  0.983452   stemming   With_Header\n",
              "11        MultinomialNB  0.981087  lemmatize   With_Header\n",
              "12  K-Nearest Negihbors  0.962175   stemming  Only_Content\n",
              "13  K-Nearest Negihbors  0.964539  lemmatize  Only_Content\n",
              "14  K-Nearest Negihbors  0.964539   stemming   With_header\n",
              "15  K-Nearest Negihbors  0.957447  lemmatize   With_header\n",
              "16       Support Vector  0.983452   stemming  Only_Content\n",
              "17       Support Vector  0.990544  lemmatize  Only_Content\n",
              "18       Support Vector  0.988180   stemming   With_Header\n",
              "19       Support Vector  0.990544  lemmatize   With_Header"
            ]
          },
          "metadata": {},
          "execution_count": 100
        }
      ]
    },
    {
      "cell_type": "markdown",
      "metadata": {
        "id": "Y1W5BWlL4bv8"
      },
      "source": [
        "### Stemming with Only_Content"
      ]
    },
    {
      "cell_type": "code",
      "metadata": {
        "id": "55064-CT-Zyd"
      },
      "source": [
        "#ฟังก์ชันสำหรับแสดงตัวเลขเทศนิยมในกราฟแท่ง\n",
        "def show_values(axs, orient=\"v\", space=.01):\n",
        "    def _single(ax):\n",
        "        if orient == \"v\":\n",
        "            for p in ax.patches:\n",
        "                _x = p.get_x() + p.get_width() / 2\n",
        "                _y = p.get_y() + p.get_height() + (p.get_height()*0.01)\n",
        "                value = '{:.5f}'.format(p.get_height())\n",
        "                ax.text(_x, _y, value, ha=\"center\") \n",
        "        elif orient == \"h\":\n",
        "            for p in ax.patches:\n",
        "                _x = p.get_x() + p.get_width() + float(space)\n",
        "                _y = p.get_y() + p.get_height() - (p.get_height()*0.5)\n",
        "                value = '{:.5f}'.format(p.get_width())\n",
        "                ax.text(_x, _y, value, ha=\"left\")\n",
        "\n",
        "    if isinstance(axs, np.ndarray):\n",
        "        for idx, ax in np.ndenumerate(axs):\n",
        "            _single(ax)\n",
        "    else:\n",
        "        _single(axs)\n",
        "        \n",
        "#ขอบคุณฟังก์ชันดีๆ จาก https://www.statology.org/seaborn-barplot-show-values/"
      ],
      "execution_count": null,
      "outputs": []
    },
    {
      "cell_type": "markdown",
      "metadata": {
        "id": "fuq6S3mn7rG_"
      },
      "source": [
        "*ดูประสิทธิภาพการ Stemming ของแต่ละโมเดลกับข้อมูล Only Content*"
      ]
    },
    {
      "cell_type": "code",
      "metadata": {
        "id": "2fiehukS52yp"
      },
      "source": [
        "df_only_content_stem = all_.loc[(all_['Data'] == 'Only_Content') & (all_['Type'] == 'stemming')]"
      ],
      "execution_count": null,
      "outputs": []
    },
    {
      "cell_type": "code",
      "metadata": {
        "colab": {
          "base_uri": "https://localhost:8080/",
          "height": 204
        },
        "id": "Gln8dyLJ7TFJ",
        "outputId": "5deeeb9d-7865-40f5-eee9-f07309f0d77b"
      },
      "source": [
        "df_only_content_stem"
      ],
      "execution_count": null,
      "outputs": [
        {
          "output_type": "execute_result",
          "data": {
            "text/html": [
              "<div>\n",
              "<style scoped>\n",
              "    .dataframe tbody tr th:only-of-type {\n",
              "        vertical-align: middle;\n",
              "    }\n",
              "\n",
              "    .dataframe tbody tr th {\n",
              "        vertical-align: top;\n",
              "    }\n",
              "\n",
              "    .dataframe thead th {\n",
              "        text-align: right;\n",
              "    }\n",
              "</style>\n",
              "<table border=\"1\" class=\"dataframe\">\n",
              "  <thead>\n",
              "    <tr style=\"text-align: right;\">\n",
              "      <th></th>\n",
              "      <th>Model</th>\n",
              "      <th>Accuracy</th>\n",
              "      <th>Type</th>\n",
              "      <th>Data</th>\n",
              "    </tr>\n",
              "  </thead>\n",
              "  <tbody>\n",
              "    <tr>\n",
              "      <th>0</th>\n",
              "      <td>Logistic Regression</td>\n",
              "      <td>0.990544</td>\n",
              "      <td>stemming</td>\n",
              "      <td>Only_Content</td>\n",
              "    </tr>\n",
              "    <tr>\n",
              "      <th>4</th>\n",
              "      <td>SGDClassifier</td>\n",
              "      <td>0.990544</td>\n",
              "      <td>stemming</td>\n",
              "      <td>Only_Content</td>\n",
              "    </tr>\n",
              "    <tr>\n",
              "      <th>8</th>\n",
              "      <td>MultinomialNB</td>\n",
              "      <td>0.983452</td>\n",
              "      <td>stemming</td>\n",
              "      <td>Only_Content</td>\n",
              "    </tr>\n",
              "    <tr>\n",
              "      <th>12</th>\n",
              "      <td>K-Nearest Negihbors</td>\n",
              "      <td>0.962175</td>\n",
              "      <td>stemming</td>\n",
              "      <td>Only_Content</td>\n",
              "    </tr>\n",
              "    <tr>\n",
              "      <th>16</th>\n",
              "      <td>Support Vector</td>\n",
              "      <td>0.983452</td>\n",
              "      <td>stemming</td>\n",
              "      <td>Only_Content</td>\n",
              "    </tr>\n",
              "  </tbody>\n",
              "</table>\n",
              "</div>"
            ],
            "text/plain": [
              "                  Model  Accuracy      Type          Data\n",
              "0   Logistic Regression  0.990544  stemming  Only_Content\n",
              "4         SGDClassifier  0.990544  stemming  Only_Content\n",
              "8         MultinomialNB  0.983452  stemming  Only_Content\n",
              "12  K-Nearest Negihbors  0.962175  stemming  Only_Content\n",
              "16       Support Vector  0.983452  stemming  Only_Content"
            ]
          },
          "metadata": {},
          "execution_count": 103
        }
      ]
    },
    {
      "cell_type": "code",
      "metadata": {
        "colab": {
          "base_uri": "https://localhost:8080/",
          "height": 675
        },
        "id": "OVwwWtN670FG",
        "outputId": "0bfa9a92-a032-4443-b9e6-a796a147da64"
      },
      "source": [
        "plt.figure(figsize=(20,10))\n",
        "plt.title('Stemming with Only Content Data')\n",
        "p = sns.barplot(df_only_content_stem['Accuracy'], df_only_content_stem['Model'], ci=None)\n",
        "show_values(p, \"h\", space=0)"
      ],
      "execution_count": null,
      "outputs": [
        {
          "output_type": "stream",
          "name": "stderr",
          "text": [
            "/usr/local/lib/python3.7/dist-packages/seaborn/_decorators.py:43: FutureWarning: Pass the following variables as keyword args: x, y. From version 0.12, the only valid positional argument will be `data`, and passing other arguments without an explicit keyword will result in an error or misinterpretation.\n",
            "  FutureWarning\n"
          ]
        },
        {
          "output_type": "display_data",
          "data": {
            "image/png": "[encoded data removed]",
            "text/plain": [
              "<Figure size 1440x720 with 1 Axes>"
            ]
          },
          "metadata": {
            "needs_background": "light"
          }
        }
      ]
    },
    {
      "cell_type": "markdown",
      "metadata": {
        "id": "d88OSXG-4Pyr"
      },
      "source": [
        "### Lemmatize with Only_Content"
      ]
    },
    {
      "cell_type": "markdown",
      "metadata": {
        "id": "OHBxrwo17zHs"
      },
      "source": [
        "*ดูประสิทธิภาพการ Lemmatizing ของแต่ละโมเดลกับข้อมูล Only Content*"
      ]
    },
    {
      "cell_type": "code",
      "metadata": {
        "id": "X51NdPRX53R3"
      },
      "source": [
        "df_only_content_lemma = all_.loc[(all_['Data'] == 'Only_Content') & (all_['Type'] == 'lemmatize')]"
      ],
      "execution_count": null,
      "outputs": []
    },
    {
      "cell_type": "code",
      "metadata": {
        "colab": {
          "base_uri": "https://localhost:8080/",
          "height": 204
        },
        "id": "rAQ_5FS-9j3h",
        "outputId": "1271ba1f-f5a2-4f5f-9b00-1823fc01f4e3"
      },
      "source": [
        "df_only_content_lemma"
      ],
      "execution_count": null,
      "outputs": [
        {
          "output_type": "execute_result",
          "data": {
            "text/html": [
              "<div>\n",
              "<style scoped>\n",
              "    .dataframe tbody tr th:only-of-type {\n",
              "        vertical-align: middle;\n",
              "    }\n",
              "\n",
              "    .dataframe tbody tr th {\n",
              "        vertical-align: top;\n",
              "    }\n",
              "\n",
              "    .dataframe thead th {\n",
              "        text-align: right;\n",
              "    }\n",
              "</style>\n",
              "<table border=\"1\" class=\"dataframe\">\n",
              "  <thead>\n",
              "    <tr style=\"text-align: right;\">\n",
              "      <th></th>\n",
              "      <th>Model</th>\n",
              "      <th>Accuracy</th>\n",
              "      <th>Type</th>\n",
              "      <th>Data</th>\n",
              "    </tr>\n",
              "  </thead>\n",
              "  <tbody>\n",
              "    <tr>\n",
              "      <th>1</th>\n",
              "      <td>Logistic Regression</td>\n",
              "      <td>0.990544</td>\n",
              "      <td>lemmatize</td>\n",
              "      <td>Only_Content</td>\n",
              "    </tr>\n",
              "    <tr>\n",
              "      <th>5</th>\n",
              "      <td>SGDClassifier</td>\n",
              "      <td>0.988180</td>\n",
              "      <td>lemmatize</td>\n",
              "      <td>Only_Content</td>\n",
              "    </tr>\n",
              "    <tr>\n",
              "      <th>9</th>\n",
              "      <td>MultinomialNB</td>\n",
              "      <td>0.981087</td>\n",
              "      <td>lemmatize</td>\n",
              "      <td>Only_Content</td>\n",
              "    </tr>\n",
              "    <tr>\n",
              "      <th>13</th>\n",
              "      <td>K-Nearest Negihbors</td>\n",
              "      <td>0.964539</td>\n",
              "      <td>lemmatize</td>\n",
              "      <td>Only_Content</td>\n",
              "    </tr>\n",
              "    <tr>\n",
              "      <th>17</th>\n",
              "      <td>Support Vector</td>\n",
              "      <td>0.990544</td>\n",
              "      <td>lemmatize</td>\n",
              "      <td>Only_Content</td>\n",
              "    </tr>\n",
              "  </tbody>\n",
              "</table>\n",
              "</div>"
            ],
            "text/plain": [
              "                  Model  Accuracy       Type          Data\n",
              "1   Logistic Regression  0.990544  lemmatize  Only_Content\n",
              "5         SGDClassifier  0.988180  lemmatize  Only_Content\n",
              "9         MultinomialNB  0.981087  lemmatize  Only_Content\n",
              "13  K-Nearest Negihbors  0.964539  lemmatize  Only_Content\n",
              "17       Support Vector  0.990544  lemmatize  Only_Content"
            ]
          },
          "metadata": {},
          "execution_count": 106
        }
      ]
    },
    {
      "cell_type": "code",
      "metadata": {
        "colab": {
          "base_uri": "https://localhost:8080/",
          "height": 675
        },
        "id": "J4rVsRTf9pko",
        "outputId": "c704480c-e429-4111-d382-d7dae713dc50"
      },
      "source": [
        "plt.figure(figsize=(20,10))\n",
        "plt.title('Lemmatize with Only Content Data')\n",
        "p = sns.barplot(df_only_content_lemma['Accuracy'], df_only_content_lemma['Model'], ci=None)\n",
        "show_values(p, \"h\", space=0)"
      ],
      "execution_count": null,
      "outputs": [
        {
          "output_type": "stream",
          "name": "stderr",
          "text": [
            "/usr/local/lib/python3.7/dist-packages/seaborn/_decorators.py:43: FutureWarning: Pass the following variables as keyword args: x, y. From version 0.12, the only valid positional argument will be `data`, and passing other arguments without an explicit keyword will result in an error or misinterpretation.\n",
            "  FutureWarning\n"
          ]
        },
        {
          "output_type": "display_data",
          "data": {
            "image/png": "[encoded data removed]",
            "text/plain": [
              "<Figure size 1440x720 with 1 Axes>"
            ]
          },
          "metadata": {
            "needs_background": "light"
          }
        }
      ]
    },
    {
      "cell_type": "markdown",
      "metadata": {
        "id": "_zE79tOjA177"
      },
      "source": [
        "### Stemming with Content Plus Header"
      ]
    },
    {
      "cell_type": "markdown",
      "metadata": {
        "id": "0modjD7vJmY9"
      },
      "source": [
        "*ดูประสิทธิภาพการ Stemming ของแต่ละโมเดลกับข้อมูล Content Plus Header*"
      ]
    },
    {
      "cell_type": "code",
      "metadata": {
        "id": "xu4ILtQEA6dA"
      },
      "source": [
        "df_content_w_header_stem = all_.loc[(all_['Data'] == 'With_Header') & (all_['Type'] == 'stemming')]"
      ],
      "execution_count": null,
      "outputs": []
    },
    {
      "cell_type": "code",
      "metadata": {
        "colab": {
          "base_uri": "https://localhost:8080/",
          "height": 173
        },
        "id": "YvVHjwusA7GA",
        "outputId": "abcf864b-535a-4966-acb8-f396e1b988bc"
      },
      "source": [
        "df_content_w_header_stem"
      ],
      "execution_count": null,
      "outputs": [
        {
          "output_type": "execute_result",
          "data": {
            "text/html": [
              "<div>\n",
              "<style scoped>\n",
              "    .dataframe tbody tr th:only-of-type {\n",
              "        vertical-align: middle;\n",
              "    }\n",
              "\n",
              "    .dataframe tbody tr th {\n",
              "        vertical-align: top;\n",
              "    }\n",
              "\n",
              "    .dataframe thead th {\n",
              "        text-align: right;\n",
              "    }\n",
              "</style>\n",
              "<table border=\"1\" class=\"dataframe\">\n",
              "  <thead>\n",
              "    <tr style=\"text-align: right;\">\n",
              "      <th></th>\n",
              "      <th>Model</th>\n",
              "      <th>Accuracy</th>\n",
              "      <th>Type</th>\n",
              "      <th>Data</th>\n",
              "    </tr>\n",
              "  </thead>\n",
              "  <tbody>\n",
              "    <tr>\n",
              "      <th>2</th>\n",
              "      <td>Logistic Regression</td>\n",
              "      <td>0.985816</td>\n",
              "      <td>stemming</td>\n",
              "      <td>With_Header</td>\n",
              "    </tr>\n",
              "    <tr>\n",
              "      <th>6</th>\n",
              "      <td>SGDClassifier</td>\n",
              "      <td>0.985816</td>\n",
              "      <td>stemming</td>\n",
              "      <td>With_Header</td>\n",
              "    </tr>\n",
              "    <tr>\n",
              "      <th>10</th>\n",
              "      <td>MultinomialNB</td>\n",
              "      <td>0.983452</td>\n",
              "      <td>stemming</td>\n",
              "      <td>With_Header</td>\n",
              "    </tr>\n",
              "    <tr>\n",
              "      <th>18</th>\n",
              "      <td>Support Vector</td>\n",
              "      <td>0.988180</td>\n",
              "      <td>stemming</td>\n",
              "      <td>With_Header</td>\n",
              "    </tr>\n",
              "  </tbody>\n",
              "</table>\n",
              "</div>"
            ],
            "text/plain": [
              "                  Model  Accuracy      Type         Data\n",
              "2   Logistic Regression  0.985816  stemming  With_Header\n",
              "6         SGDClassifier  0.985816  stemming  With_Header\n",
              "10        MultinomialNB  0.983452  stemming  With_Header\n",
              "18       Support Vector  0.988180  stemming  With_Header"
            ]
          },
          "metadata": {},
          "execution_count": 109
        }
      ]
    },
    {
      "cell_type": "code",
      "metadata": {
        "colab": {
          "base_uri": "https://localhost:8080/",
          "height": 675
        },
        "id": "FrZTOtwPBFL5",
        "outputId": "d594d643-299a-46da-b075-be30a0e5a979"
      },
      "source": [
        "plt.figure(figsize=(20,10))\n",
        "plt.title('Stemming with Content Plus Header Data')\n",
        "p = sns.barplot(df_content_w_header_stem['Accuracy'], df_content_w_header_stem['Model'], ci=None)\n",
        "show_values(p, \"h\", space=0)"
      ],
      "execution_count": null,
      "outputs": [
        {
          "output_type": "stream",
          "name": "stderr",
          "text": [
            "/usr/local/lib/python3.7/dist-packages/seaborn/_decorators.py:43: FutureWarning: Pass the following variables as keyword args: x, y. From version 0.12, the only valid positional argument will be `data`, and passing other arguments without an explicit keyword will result in an error or misinterpretation.\n",
            "  FutureWarning\n"
          ]
        },
        {
          "output_type": "display_data",
          "data": {
            "image/png": "[encoded data removed]",
            "text/plain": [
              "<Figure size 1440x720 with 1 Axes>"
            ]
          },
          "metadata": {
            "needs_background": "light"
          }
        }
      ]
    },
    {
      "cell_type": "markdown",
      "metadata": {
        "id": "8sm3bMhBBPTf"
      },
      "source": [
        "### Lammatize with Content Plus Header"
      ]
    },
    {
      "cell_type": "markdown",
      "metadata": {
        "id": "Q-qUcF8NJqwy"
      },
      "source": [
        "*ดูประสิทธิภาพการ Lemmatize ของแต่ละโมเดลกับข้อมูล Content Plus Header*"
      ]
    },
    {
      "cell_type": "code",
      "metadata": {
        "id": "QtsEvzgUCDM7"
      },
      "source": [
        "df_content_w_header_lemma = all_.loc[(all_['Data'] == 'With_Header') & (all_['Type'] == 'lemmatize')]"
      ],
      "execution_count": null,
      "outputs": []
    },
    {
      "cell_type": "code",
      "metadata": {
        "colab": {
          "base_uri": "https://localhost:8080/",
          "height": 173
        },
        "id": "k1SoAJ7KCGH-",
        "outputId": "2adf3d76-6782-4c0d-9abd-d91e6b491ea9"
      },
      "source": [
        "df_content_w_header_lemma"
      ],
      "execution_count": null,
      "outputs": [
        {
          "output_type": "execute_result",
          "data": {
            "text/html": [
              "<div>\n",
              "<style scoped>\n",
              "    .dataframe tbody tr th:only-of-type {\n",
              "        vertical-align: middle;\n",
              "    }\n",
              "\n",
              "    .dataframe tbody tr th {\n",
              "        vertical-align: top;\n",
              "    }\n",
              "\n",
              "    .dataframe thead th {\n",
              "        text-align: right;\n",
              "    }\n",
              "</style>\n",
              "<table border=\"1\" class=\"dataframe\">\n",
              "  <thead>\n",
              "    <tr style=\"text-align: right;\">\n",
              "      <th></th>\n",
              "      <th>Model</th>\n",
              "      <th>Accuracy</th>\n",
              "      <th>Type</th>\n",
              "      <th>Data</th>\n",
              "    </tr>\n",
              "  </thead>\n",
              "  <tbody>\n",
              "    <tr>\n",
              "      <th>3</th>\n",
              "      <td>Logistic Regression</td>\n",
              "      <td>0.990544</td>\n",
              "      <td>lemmatize</td>\n",
              "      <td>With_Header</td>\n",
              "    </tr>\n",
              "    <tr>\n",
              "      <th>7</th>\n",
              "      <td>SGDClassifier</td>\n",
              "      <td>0.988180</td>\n",
              "      <td>lemmatize</td>\n",
              "      <td>With_Header</td>\n",
              "    </tr>\n",
              "    <tr>\n",
              "      <th>11</th>\n",
              "      <td>MultinomialNB</td>\n",
              "      <td>0.981087</td>\n",
              "      <td>lemmatize</td>\n",
              "      <td>With_Header</td>\n",
              "    </tr>\n",
              "    <tr>\n",
              "      <th>19</th>\n",
              "      <td>Support Vector</td>\n",
              "      <td>0.990544</td>\n",
              "      <td>lemmatize</td>\n",
              "      <td>With_Header</td>\n",
              "    </tr>\n",
              "  </tbody>\n",
              "</table>\n",
              "</div>"
            ],
            "text/plain": [
              "                  Model  Accuracy       Type         Data\n",
              "3   Logistic Regression  0.990544  lemmatize  With_Header\n",
              "7         SGDClassifier  0.988180  lemmatize  With_Header\n",
              "11        MultinomialNB  0.981087  lemmatize  With_Header\n",
              "19       Support Vector  0.990544  lemmatize  With_Header"
            ]
          },
          "metadata": {},
          "execution_count": 112
        }
      ]
    },
    {
      "cell_type": "code",
      "metadata": {
        "colab": {
          "base_uri": "https://localhost:8080/",
          "height": 675
        },
        "id": "MhoGh3kYCHW5",
        "outputId": "d2d402e3-1c94-456c-c42d-2fe998f3c17c"
      },
      "source": [
        "plt.figure(figsize=(20,10))\n",
        "plt.title('Stemming with Content Plus Header Data')\n",
        "p = sns.barplot(df_content_w_header_lemma['Accuracy'], df_content_w_header_lemma['Model'], ci=None)\n",
        "show_values(p, \"h\", space=0)"
      ],
      "execution_count": null,
      "outputs": [
        {
          "output_type": "stream",
          "name": "stderr",
          "text": [
            "/usr/local/lib/python3.7/dist-packages/seaborn/_decorators.py:43: FutureWarning: Pass the following variables as keyword args: x, y. From version 0.12, the only valid positional argument will be `data`, and passing other arguments without an explicit keyword will result in an error or misinterpretation.\n",
            "  FutureWarning\n"
          ]
        },
        {
          "output_type": "display_data",
          "data": {
            "image/png": "[encoded data removed]",
            "text/plain": [
              "<Figure size 1440x720 with 1 Axes>"
            ]
          },
          "metadata": {
            "needs_background": "light"
          }
        }
      ]
    },
    {
      "cell_type": "code",
      "metadata": {
        "id": "peRoPJ3nJ_Bj"
      },
      "source": [
        "# ░░▒░░█░\n",
        "# ░░▒░█\n",
        "# ░░░█\n",
        "# ░░█░░░░███████\n",
        "# ░██░░░██▓▓███▓██▒\n",
        "# ██░░░█▓▓▓▓▓▓▓█▓████\n",
        "# ██░░██▓▓▓(◐)▓█▓█▓█\n",
        "# ███▓▓▓█▓▓▓▓▓█▓█▓▓▓▓█\n",
        "# ▀██▓▓█░██▓▓▓▓██▓▓▓▓▓█\n",
        "# ░▀██▀░░█▓▓▓▓▓▓▓▓▓▓▓▓▓█\n",
        "# ░░░░▒░░░█▓▓▓▓▓█▓▓▓▓▓▓█\n",
        "# ░░░░▒░░░█▓▓▓▓█▓█▓▓▓▓▓█\n",
        "# ░▒░░▒░░░█▓▓▓█▓▓▓█▓▓▓▓█\n",
        "# ░▒░░▒░░░█▓▓▓█░░░█▓▓▓█\n",
        "# ░▒░░▒░░██▓██░░░██▓▓██"
      ],
      "execution_count": null,
      "outputs": []
    }
  ]
}